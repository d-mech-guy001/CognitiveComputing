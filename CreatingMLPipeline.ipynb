{
  "nbformat": 4,
  "nbformat_minor": 0,
  "metadata": {
    "colab": {
      "provenance": [],
      "gpuType": "T4",
      "authorship_tag": "ABX9TyOhwl1XSC1VPQkeuYhqgbpV"
    },
    "kernelspec": {
      "name": "python3",
      "display_name": "Python 3"
    },
    "language_info": {
      "name": "python"
    },
    "accelerator": "GPU"
  },
  "cells": [
    {
      "cell_type": "markdown",
      "source": [
        "Importing Libraries"
      ],
      "metadata": {
        "id": "JHa-FHuW3nuH"
      }
    },
    {
      "cell_type": "code",
      "execution_count": 3,
      "metadata": {
        "colab": {
          "base_uri": "https://localhost:8080/"
        },
        "id": "3qCJ-1DK2xGx",
        "outputId": "c2befe1a-afe3-41d3-cd81-91894baa4d12"
      },
      "outputs": [
        {
          "output_type": "stream",
          "name": "stdout",
          "text": [
            "\u001b[?25l     \u001b[90m━━━━━━━━━━━━━━━━━━━━━━━━━━━━━━━━━━━━━━━━\u001b[0m \u001b[32m0.0/365.3 kB\u001b[0m \u001b[31m?\u001b[0m eta \u001b[36m-:--:--\u001b[0m\r\u001b[2K     \u001b[91m━━━━━━━━━━━━━━━━━━━━━━━━━━━━━━\u001b[0m\u001b[91m╸\u001b[0m\u001b[90m━━━━━━━━\u001b[0m \u001b[32m286.7/365.3 kB\u001b[0m \u001b[31m8.4 MB/s\u001b[0m eta \u001b[36m0:00:01\u001b[0m\r\u001b[2K     \u001b[90m━━━━━━━━━━━━━━━━━━━━━━━━━━━━━━━━━━━━━━━\u001b[0m \u001b[32m365.3/365.3 kB\u001b[0m \u001b[31m8.3 MB/s\u001b[0m eta \u001b[36m0:00:00\u001b[0m\n",
            "\u001b[2K     \u001b[90m━━━━━━━━━━━━━━━━━━━━━━━━━━━━━━━━━━━━━━\u001b[0m \u001b[32m444.7/444.7 kB\u001b[0m \u001b[31m27.5 MB/s\u001b[0m eta \u001b[36m0:00:00\u001b[0m\n",
            "\u001b[2K     \u001b[90m━━━━━━━━━━━━━━━━━━━━━━━━━━━━━━━━━━━━━━\u001b[0m \u001b[32m224.5/224.5 kB\u001b[0m \u001b[31m28.3 MB/s\u001b[0m eta \u001b[36m0:00:00\u001b[0m\n",
            "\u001b[2K     \u001b[90m━━━━━━━━━━━━━━━━━━━━━━━━━━━━━━━━━━━━━━\u001b[0m \u001b[32m184.3/184.3 kB\u001b[0m \u001b[31m24.7 MB/s\u001b[0m eta \u001b[36m0:00:00\u001b[0m\n",
            "\u001b[2K     \u001b[90m━━━━━━━━━━━━━━━━━━━━━━━━━━━━━━━━━━━━━━\u001b[0m \u001b[32m135.6/135.6 kB\u001b[0m \u001b[31m18.3 MB/s\u001b[0m eta \u001b[36m0:00:00\u001b[0m\n",
            "\u001b[2K     \u001b[90m━━━━━━━━━━━━━━━━━━━━━━━━━━━━━━━━━━━━━━━━\u001b[0m \u001b[32m78.7/78.7 kB\u001b[0m \u001b[31m10.5 MB/s\u001b[0m eta \u001b[36m0:00:00\u001b[0m\n",
            "\u001b[2K     \u001b[90m━━━━━━━━━━━━━━━━━━━━━━━━━━━━━━━━━━━━━━━\u001b[0m \u001b[32m10.9/10.9 MB\u001b[0m \u001b[31m106.3 MB/s\u001b[0m eta \u001b[36m0:00:00\u001b[0m\n",
            "\u001b[2K     \u001b[90m━━━━━━━━━━━━━━━━━━━━━━━━━━━━━━━━━━━━━━━━\u001b[0m \u001b[32m79.8/79.8 kB\u001b[0m \u001b[31m10.7 MB/s\u001b[0m eta \u001b[36m0:00:00\u001b[0m\n",
            "\u001b[2K     \u001b[90m━━━━━━━━━━━━━━━━━━━━━━━━━━━━━━━━━━━━━━━━\u001b[0m \u001b[32m67.7/67.7 kB\u001b[0m \u001b[31m9.4 MB/s\u001b[0m eta \u001b[36m0:00:00\u001b[0m\n",
            "\u001b[2K     \u001b[90m━━━━━━━━━━━━━━━━━━━━━━━━━━━━━━━━━━━━━━\u001b[0m \u001b[32m137.9/137.9 kB\u001b[0m \u001b[31m18.8 MB/s\u001b[0m eta \u001b[36m0:00:00\u001b[0m\n",
            "\u001b[2K     \u001b[90m━━━━━━━━━━━━━━━━━━━━━━━━━━━━━━━━━━━━━━━━\u001b[0m \u001b[32m62.7/62.7 kB\u001b[0m \u001b[31m9.2 MB/s\u001b[0m eta \u001b[36m0:00:00\u001b[0m\n",
            "\u001b[2K     \u001b[90m━━━━━━━━━━━━━━━━━━━━━━━━━━━━━━━━━━━━━━━━\u001b[0m \u001b[32m66.4/66.4 kB\u001b[0m \u001b[31m9.6 MB/s\u001b[0m eta \u001b[36m0:00:00\u001b[0m\n",
            "\u001b[?25h"
          ]
        }
      ],
      "source": [
        "!pip install optuna==3.1.0 --quiet numpy==1.22.4 neptune-client==0.16.16"
      ]
    },
    {
      "cell_type": "code",
      "source": [
        "import numpy as np\n",
        "import pandas as pd\n",
        "from sklearn.model_selection import train_test_split, StratifiedKFold, cross_val_score\n",
        "from sklearn.compose import ColumnTransformer\n",
        "from sklearn.pipeline import Pipeline\n",
        "from sklearn.preprocessing import StandardScaler, OneHotEncoder\n",
        "from  sklearn.impute import SimpleImputer\n",
        "from sklearn.ensemble import RandomForestClassifier\n",
        "from sklearn.metrics import accuracy_score, precision_score, recall_score, f1_score\n",
        "import optuna\n",
        "from functools import partial\n",
        "import neptune.new as neptune\n",
        "import plotly.express as px\n"
      ],
      "metadata": {
        "id": "3wOpMlvd3mDf"
      },
      "execution_count": 28,
      "outputs": []
    },
    {
      "cell_type": "markdown",
      "source": [],
      "metadata": {
        "id": "Ohf91i603nJe"
      }
    },
    {
      "cell_type": "markdown",
      "source": [
        "Initialising Neptune Run\n"
      ],
      "metadata": {
        "id": "LBlfatcT5mWM"
      }
    },
    {
      "cell_type": "code",
      "source": [
        "run = neptune.init_run(api_token=\"eyJhcGlfYWRkcmVzcyI6Imh0dHBzOi8vYXBwLm5lcHR1bmUuYWkiLCJhcGlfdXJsIjoiaHR0cHM6Ly9hcHAubmVwdHVuZS5haSIsImFwaV9rZXkiOiI3Njk5ODEwYy0wM2NmLTRlMDktYTA3NC00ZWFiZjVmZDMyNjIifQ==\", project=\"d-mech.guy001/example-project-tensorflow-keras\")\n"
      ],
      "metadata": {
        "id": "z3Efkij05qHj",
        "colab": {
          "base_uri": "https://localhost:8080/"
        },
        "outputId": "f3e48d84-2138-4e73-b508-fbabe1796530"
      },
      "execution_count": 5,
      "outputs": [
        {
          "output_type": "stream",
          "name": "stdout",
          "text": [
            "https://app.neptune.ai/d-mech.guy001/example-project-tensorflow-keras/e/TFKERAS-17\n",
            "Remember to stop your run once you’ve finished logging your metadata (https://docs.neptune.ai/api/run#stop). It will be stopped automatically only when the notebook kernel/interactive console is terminated.\n"
          ]
        }
      ]
    },
    {
      "cell_type": "markdown",
      "source": [
        "Loading the dataset"
      ],
      "metadata": {
        "id": "mW_dLAP66jGy"
      }
    },
    {
      "cell_type": "code",
      "source": [
        "titanic=pd.read_csv(\"/content/trainSpaaceshipTitanic.csv\")\n",
        "\n",
        "titanic.shape"
      ],
      "metadata": {
        "id": "FD9uR9oR6lVY",
        "colab": {
          "base_uri": "https://localhost:8080/"
        },
        "outputId": "038f1946-1ed9-4c10-ec32-621809743380"
      },
      "execution_count": 6,
      "outputs": [
        {
          "output_type": "execute_result",
          "data": {
            "text/plain": [
              "(8693, 14)"
            ]
          },
          "metadata": {},
          "execution_count": 6
        }
      ]
    },
    {
      "cell_type": "code",
      "source": [
        "titanic = titanic.drop([\"PassengerId\", \"Name\",\"HomePlanet\" , \"Destination\",\"Cabin\"], axis=1)\n",
        "\n",
        "titanic.head(20)"
      ],
      "metadata": {
        "colab": {
          "base_uri": "https://localhost:8080/",
          "height": 720
        },
        "id": "tBngwLb7AT0A",
        "outputId": "6a170bec-0b34-4c35-cd95-4fa7979fdb1a"
      },
      "execution_count": 7,
      "outputs": [
        {
          "output_type": "execute_result",
          "data": {
            "text/plain": [
              "   CryoSleep   Age    VIP  RoomService  FoodCourt  ShoppingMall     Spa  \\\n",
              "0      False  39.0  False          0.0        0.0           0.0     0.0   \n",
              "1      False  24.0  False        109.0        9.0          25.0   549.0   \n",
              "2      False  58.0   True         43.0     3576.0           0.0  6715.0   \n",
              "3      False  33.0  False          0.0     1283.0         371.0  3329.0   \n",
              "4      False  16.0  False        303.0       70.0         151.0   565.0   \n",
              "5      False  44.0  False          0.0      483.0           0.0   291.0   \n",
              "6      False  26.0  False         42.0     1539.0           3.0     0.0   \n",
              "7       True  28.0  False          0.0        0.0           0.0     0.0   \n",
              "8      False  35.0  False          0.0      785.0          17.0   216.0   \n",
              "9       True  14.0  False          0.0        0.0           0.0     0.0   \n",
              "10      True  34.0  False          0.0        0.0           NaN     0.0   \n",
              "11     False  45.0  False         39.0     7295.0         589.0   110.0   \n",
              "12     False  32.0  False         73.0        0.0        1123.0     0.0   \n",
              "13     False  48.0  False        719.0        1.0          65.0     0.0   \n",
              "14     False  28.0  False          8.0      974.0          12.0     2.0   \n",
              "15     False  31.0  False         32.0        0.0         876.0     0.0   \n",
              "16     False  27.0  False       1286.0      122.0           NaN     0.0   \n",
              "17     False  24.0  False          0.0        1.0           0.0     0.0   \n",
              "18      True  45.0  False          0.0        0.0           0.0     0.0   \n",
              "19     False   0.0  False          0.0        0.0           0.0     0.0   \n",
              "\n",
              "    VRDeck  Transported  \n",
              "0      0.0        False  \n",
              "1     44.0         True  \n",
              "2     49.0        False  \n",
              "3    193.0        False  \n",
              "4      2.0         True  \n",
              "5      0.0         True  \n",
              "6      0.0         True  \n",
              "7      NaN         True  \n",
              "8      0.0         True  \n",
              "9      0.0         True  \n",
              "10     0.0         True  \n",
              "11   124.0         True  \n",
              "12   113.0         True  \n",
              "13    24.0        False  \n",
              "14     7.0         True  \n",
              "15     0.0        False  \n",
              "16     0.0        False  \n",
              "17   637.0        False  \n",
              "18     0.0         True  \n",
              "19     0.0         True  "
            ],
            "text/html": [
              "\n",
              "  <div id=\"df-c5b065c7-a184-436d-86ce-806181497d63\">\n",
              "    <div class=\"colab-df-container\">\n",
              "      <div>\n",
              "<style scoped>\n",
              "    .dataframe tbody tr th:only-of-type {\n",
              "        vertical-align: middle;\n",
              "    }\n",
              "\n",
              "    .dataframe tbody tr th {\n",
              "        vertical-align: top;\n",
              "    }\n",
              "\n",
              "    .dataframe thead th {\n",
              "        text-align: right;\n",
              "    }\n",
              "</style>\n",
              "<table border=\"1\" class=\"dataframe\">\n",
              "  <thead>\n",
              "    <tr style=\"text-align: right;\">\n",
              "      <th></th>\n",
              "      <th>CryoSleep</th>\n",
              "      <th>Age</th>\n",
              "      <th>VIP</th>\n",
              "      <th>RoomService</th>\n",
              "      <th>FoodCourt</th>\n",
              "      <th>ShoppingMall</th>\n",
              "      <th>Spa</th>\n",
              "      <th>VRDeck</th>\n",
              "      <th>Transported</th>\n",
              "    </tr>\n",
              "  </thead>\n",
              "  <tbody>\n",
              "    <tr>\n",
              "      <th>0</th>\n",
              "      <td>False</td>\n",
              "      <td>39.0</td>\n",
              "      <td>False</td>\n",
              "      <td>0.0</td>\n",
              "      <td>0.0</td>\n",
              "      <td>0.0</td>\n",
              "      <td>0.0</td>\n",
              "      <td>0.0</td>\n",
              "      <td>False</td>\n",
              "    </tr>\n",
              "    <tr>\n",
              "      <th>1</th>\n",
              "      <td>False</td>\n",
              "      <td>24.0</td>\n",
              "      <td>False</td>\n",
              "      <td>109.0</td>\n",
              "      <td>9.0</td>\n",
              "      <td>25.0</td>\n",
              "      <td>549.0</td>\n",
              "      <td>44.0</td>\n",
              "      <td>True</td>\n",
              "    </tr>\n",
              "    <tr>\n",
              "      <th>2</th>\n",
              "      <td>False</td>\n",
              "      <td>58.0</td>\n",
              "      <td>True</td>\n",
              "      <td>43.0</td>\n",
              "      <td>3576.0</td>\n",
              "      <td>0.0</td>\n",
              "      <td>6715.0</td>\n",
              "      <td>49.0</td>\n",
              "      <td>False</td>\n",
              "    </tr>\n",
              "    <tr>\n",
              "      <th>3</th>\n",
              "      <td>False</td>\n",
              "      <td>33.0</td>\n",
              "      <td>False</td>\n",
              "      <td>0.0</td>\n",
              "      <td>1283.0</td>\n",
              "      <td>371.0</td>\n",
              "      <td>3329.0</td>\n",
              "      <td>193.0</td>\n",
              "      <td>False</td>\n",
              "    </tr>\n",
              "    <tr>\n",
              "      <th>4</th>\n",
              "      <td>False</td>\n",
              "      <td>16.0</td>\n",
              "      <td>False</td>\n",
              "      <td>303.0</td>\n",
              "      <td>70.0</td>\n",
              "      <td>151.0</td>\n",
              "      <td>565.0</td>\n",
              "      <td>2.0</td>\n",
              "      <td>True</td>\n",
              "    </tr>\n",
              "    <tr>\n",
              "      <th>5</th>\n",
              "      <td>False</td>\n",
              "      <td>44.0</td>\n",
              "      <td>False</td>\n",
              "      <td>0.0</td>\n",
              "      <td>483.0</td>\n",
              "      <td>0.0</td>\n",
              "      <td>291.0</td>\n",
              "      <td>0.0</td>\n",
              "      <td>True</td>\n",
              "    </tr>\n",
              "    <tr>\n",
              "      <th>6</th>\n",
              "      <td>False</td>\n",
              "      <td>26.0</td>\n",
              "      <td>False</td>\n",
              "      <td>42.0</td>\n",
              "      <td>1539.0</td>\n",
              "      <td>3.0</td>\n",
              "      <td>0.0</td>\n",
              "      <td>0.0</td>\n",
              "      <td>True</td>\n",
              "    </tr>\n",
              "    <tr>\n",
              "      <th>7</th>\n",
              "      <td>True</td>\n",
              "      <td>28.0</td>\n",
              "      <td>False</td>\n",
              "      <td>0.0</td>\n",
              "      <td>0.0</td>\n",
              "      <td>0.0</td>\n",
              "      <td>0.0</td>\n",
              "      <td>NaN</td>\n",
              "      <td>True</td>\n",
              "    </tr>\n",
              "    <tr>\n",
              "      <th>8</th>\n",
              "      <td>False</td>\n",
              "      <td>35.0</td>\n",
              "      <td>False</td>\n",
              "      <td>0.0</td>\n",
              "      <td>785.0</td>\n",
              "      <td>17.0</td>\n",
              "      <td>216.0</td>\n",
              "      <td>0.0</td>\n",
              "      <td>True</td>\n",
              "    </tr>\n",
              "    <tr>\n",
              "      <th>9</th>\n",
              "      <td>True</td>\n",
              "      <td>14.0</td>\n",
              "      <td>False</td>\n",
              "      <td>0.0</td>\n",
              "      <td>0.0</td>\n",
              "      <td>0.0</td>\n",
              "      <td>0.0</td>\n",
              "      <td>0.0</td>\n",
              "      <td>True</td>\n",
              "    </tr>\n",
              "    <tr>\n",
              "      <th>10</th>\n",
              "      <td>True</td>\n",
              "      <td>34.0</td>\n",
              "      <td>False</td>\n",
              "      <td>0.0</td>\n",
              "      <td>0.0</td>\n",
              "      <td>NaN</td>\n",
              "      <td>0.0</td>\n",
              "      <td>0.0</td>\n",
              "      <td>True</td>\n",
              "    </tr>\n",
              "    <tr>\n",
              "      <th>11</th>\n",
              "      <td>False</td>\n",
              "      <td>45.0</td>\n",
              "      <td>False</td>\n",
              "      <td>39.0</td>\n",
              "      <td>7295.0</td>\n",
              "      <td>589.0</td>\n",
              "      <td>110.0</td>\n",
              "      <td>124.0</td>\n",
              "      <td>True</td>\n",
              "    </tr>\n",
              "    <tr>\n",
              "      <th>12</th>\n",
              "      <td>False</td>\n",
              "      <td>32.0</td>\n",
              "      <td>False</td>\n",
              "      <td>73.0</td>\n",
              "      <td>0.0</td>\n",
              "      <td>1123.0</td>\n",
              "      <td>0.0</td>\n",
              "      <td>113.0</td>\n",
              "      <td>True</td>\n",
              "    </tr>\n",
              "    <tr>\n",
              "      <th>13</th>\n",
              "      <td>False</td>\n",
              "      <td>48.0</td>\n",
              "      <td>False</td>\n",
              "      <td>719.0</td>\n",
              "      <td>1.0</td>\n",
              "      <td>65.0</td>\n",
              "      <td>0.0</td>\n",
              "      <td>24.0</td>\n",
              "      <td>False</td>\n",
              "    </tr>\n",
              "    <tr>\n",
              "      <th>14</th>\n",
              "      <td>False</td>\n",
              "      <td>28.0</td>\n",
              "      <td>False</td>\n",
              "      <td>8.0</td>\n",
              "      <td>974.0</td>\n",
              "      <td>12.0</td>\n",
              "      <td>2.0</td>\n",
              "      <td>7.0</td>\n",
              "      <td>True</td>\n",
              "    </tr>\n",
              "    <tr>\n",
              "      <th>15</th>\n",
              "      <td>False</td>\n",
              "      <td>31.0</td>\n",
              "      <td>False</td>\n",
              "      <td>32.0</td>\n",
              "      <td>0.0</td>\n",
              "      <td>876.0</td>\n",
              "      <td>0.0</td>\n",
              "      <td>0.0</td>\n",
              "      <td>False</td>\n",
              "    </tr>\n",
              "    <tr>\n",
              "      <th>16</th>\n",
              "      <td>False</td>\n",
              "      <td>27.0</td>\n",
              "      <td>False</td>\n",
              "      <td>1286.0</td>\n",
              "      <td>122.0</td>\n",
              "      <td>NaN</td>\n",
              "      <td>0.0</td>\n",
              "      <td>0.0</td>\n",
              "      <td>False</td>\n",
              "    </tr>\n",
              "    <tr>\n",
              "      <th>17</th>\n",
              "      <td>False</td>\n",
              "      <td>24.0</td>\n",
              "      <td>False</td>\n",
              "      <td>0.0</td>\n",
              "      <td>1.0</td>\n",
              "      <td>0.0</td>\n",
              "      <td>0.0</td>\n",
              "      <td>637.0</td>\n",
              "      <td>False</td>\n",
              "    </tr>\n",
              "    <tr>\n",
              "      <th>18</th>\n",
              "      <td>True</td>\n",
              "      <td>45.0</td>\n",
              "      <td>False</td>\n",
              "      <td>0.0</td>\n",
              "      <td>0.0</td>\n",
              "      <td>0.0</td>\n",
              "      <td>0.0</td>\n",
              "      <td>0.0</td>\n",
              "      <td>True</td>\n",
              "    </tr>\n",
              "    <tr>\n",
              "      <th>19</th>\n",
              "      <td>False</td>\n",
              "      <td>0.0</td>\n",
              "      <td>False</td>\n",
              "      <td>0.0</td>\n",
              "      <td>0.0</td>\n",
              "      <td>0.0</td>\n",
              "      <td>0.0</td>\n",
              "      <td>0.0</td>\n",
              "      <td>True</td>\n",
              "    </tr>\n",
              "  </tbody>\n",
              "</table>\n",
              "</div>\n",
              "      <button class=\"colab-df-convert\" onclick=\"convertToInteractive('df-c5b065c7-a184-436d-86ce-806181497d63')\"\n",
              "              title=\"Convert this dataframe to an interactive table.\"\n",
              "              style=\"display:none;\">\n",
              "        \n",
              "  <svg xmlns=\"http://www.w3.org/2000/svg\" height=\"24px\"viewBox=\"0 0 24 24\"\n",
              "       width=\"24px\">\n",
              "    <path d=\"M0 0h24v24H0V0z\" fill=\"none\"/>\n",
              "    <path d=\"M18.56 5.44l.94 2.06.94-2.06 2.06-.94-2.06-.94-.94-2.06-.94 2.06-2.06.94zm-11 1L8.5 8.5l.94-2.06 2.06-.94-2.06-.94L8.5 2.5l-.94 2.06-2.06.94zm10 10l.94 2.06.94-2.06 2.06-.94-2.06-.94-.94-2.06-.94 2.06-2.06.94z\"/><path d=\"M17.41 7.96l-1.37-1.37c-.4-.4-.92-.59-1.43-.59-.52 0-1.04.2-1.43.59L10.3 9.45l-7.72 7.72c-.78.78-.78 2.05 0 2.83L4 21.41c.39.39.9.59 1.41.59.51 0 1.02-.2 1.41-.59l7.78-7.78 2.81-2.81c.8-.78.8-2.07 0-2.86zM5.41 20L4 18.59l7.72-7.72 1.47 1.35L5.41 20z\"/>\n",
              "  </svg>\n",
              "      </button>\n",
              "      \n",
              "  <style>\n",
              "    .colab-df-container {\n",
              "      display:flex;\n",
              "      flex-wrap:wrap;\n",
              "      gap: 12px;\n",
              "    }\n",
              "\n",
              "    .colab-df-convert {\n",
              "      background-color: #E8F0FE;\n",
              "      border: none;\n",
              "      border-radius: 50%;\n",
              "      cursor: pointer;\n",
              "      display: none;\n",
              "      fill: #1967D2;\n",
              "      height: 32px;\n",
              "      padding: 0 0 0 0;\n",
              "      width: 32px;\n",
              "    }\n",
              "\n",
              "    .colab-df-convert:hover {\n",
              "      background-color: #E2EBFA;\n",
              "      box-shadow: 0px 1px 2px rgba(60, 64, 67, 0.3), 0px 1px 3px 1px rgba(60, 64, 67, 0.15);\n",
              "      fill: #174EA6;\n",
              "    }\n",
              "\n",
              "    [theme=dark] .colab-df-convert {\n",
              "      background-color: #3B4455;\n",
              "      fill: #D2E3FC;\n",
              "    }\n",
              "\n",
              "    [theme=dark] .colab-df-convert:hover {\n",
              "      background-color: #434B5C;\n",
              "      box-shadow: 0px 1px 3px 1px rgba(0, 0, 0, 0.15);\n",
              "      filter: drop-shadow(0px 1px 2px rgba(0, 0, 0, 0.3));\n",
              "      fill: #FFFFFF;\n",
              "    }\n",
              "  </style>\n",
              "\n",
              "      <script>\n",
              "        const buttonEl =\n",
              "          document.querySelector('#df-c5b065c7-a184-436d-86ce-806181497d63 button.colab-df-convert');\n",
              "        buttonEl.style.display =\n",
              "          google.colab.kernel.accessAllowed ? 'block' : 'none';\n",
              "\n",
              "        async function convertToInteractive(key) {\n",
              "          const element = document.querySelector('#df-c5b065c7-a184-436d-86ce-806181497d63');\n",
              "          const dataTable =\n",
              "            await google.colab.kernel.invokeFunction('convertToInteractive',\n",
              "                                                     [key], {});\n",
              "          if (!dataTable) return;\n",
              "\n",
              "          const docLinkHtml = 'Like what you see? Visit the ' +\n",
              "            '<a target=\"_blank\" href=https://colab.research.google.com/notebooks/data_table.ipynb>data table notebook</a>'\n",
              "            + ' to learn more about interactive tables.';\n",
              "          element.innerHTML = '';\n",
              "          dataTable['output_type'] = 'display_data';\n",
              "          await google.colab.output.renderOutput(dataTable, element);\n",
              "          const docLink = document.createElement('div');\n",
              "          docLink.innerHTML = docLinkHtml;\n",
              "          element.appendChild(docLink);\n",
              "        }\n",
              "      </script>\n",
              "    </div>\n",
              "  </div>\n",
              "  "
            ]
          },
          "metadata": {},
          "execution_count": 7
        }
      ]
    },
    {
      "cell_type": "code",
      "source": [
        "titanic['Age']=titanic['Age'].fillna(titanic['Age'].mean(),inplace=False)\n",
        "titanic['RoomService']=titanic['RoomService'].fillna(titanic['RoomService'].mean(),inplace=False)\n",
        "titanic['FoodCourt']=titanic['FoodCourt'].fillna(titanic['FoodCourt'].mode()[0],inplace=False)\n",
        "titanic['ShoppingMall']=titanic['ShoppingMall'].fillna(titanic['ShoppingMall'].mode()[0],inplace=False)\n",
        "titanic['Spa']=titanic['Spa'].fillna(titanic['Spa'].mean(),inplace=False)\n",
        "titanic['VRDeck']=titanic['VRDeck'].fillna(titanic['VRDeck'].mean(),inplace=False)\n"
      ],
      "metadata": {
        "id": "ZCzFqv1IBV8Z"
      },
      "execution_count": 8,
      "outputs": []
    },
    {
      "cell_type": "code",
      "source": [],
      "metadata": {
        "id": "JEYFEdgIG4vG"
      },
      "execution_count": null,
      "outputs": []
    },
    {
      "cell_type": "code",
      "source": [
        "titanic.dropna(inplace=True)"
      ],
      "metadata": {
        "id": "FrZjY7KGMaoi"
      },
      "execution_count": 9,
      "outputs": []
    },
    {
      "cell_type": "code",
      "source": [
        "titanic.head(20)\n"
      ],
      "metadata": {
        "colab": {
          "base_uri": "https://localhost:8080/",
          "height": 740
        },
        "id": "DqbRDFsEF9c_",
        "outputId": "c3c69cbb-7e22-48ec-800f-e8649760a611"
      },
      "execution_count": 10,
      "outputs": [
        {
          "output_type": "execute_result",
          "data": {
            "text/plain": [
              "   CryoSleep   Age    VIP  RoomService  FoodCourt  ShoppingMall     Spa  \\\n",
              "0      False  39.0  False          0.0        0.0           0.0     0.0   \n",
              "1      False  24.0  False        109.0        9.0          25.0   549.0   \n",
              "2      False  58.0   True         43.0     3576.0           0.0  6715.0   \n",
              "3      False  33.0  False          0.0     1283.0         371.0  3329.0   \n",
              "4      False  16.0  False        303.0       70.0         151.0   565.0   \n",
              "5      False  44.0  False          0.0      483.0           0.0   291.0   \n",
              "6      False  26.0  False         42.0     1539.0           3.0     0.0   \n",
              "7       True  28.0  False          0.0        0.0           0.0     0.0   \n",
              "8      False  35.0  False          0.0      785.0          17.0   216.0   \n",
              "9       True  14.0  False          0.0        0.0           0.0     0.0   \n",
              "10      True  34.0  False          0.0        0.0           0.0     0.0   \n",
              "11     False  45.0  False         39.0     7295.0         589.0   110.0   \n",
              "12     False  32.0  False         73.0        0.0        1123.0     0.0   \n",
              "13     False  48.0  False        719.0        1.0          65.0     0.0   \n",
              "14     False  28.0  False          8.0      974.0          12.0     2.0   \n",
              "15     False  31.0  False         32.0        0.0         876.0     0.0   \n",
              "16     False  27.0  False       1286.0      122.0           0.0     0.0   \n",
              "17     False  24.0  False          0.0        1.0           0.0     0.0   \n",
              "18      True  45.0  False          0.0        0.0           0.0     0.0   \n",
              "19     False   0.0  False          0.0        0.0           0.0     0.0   \n",
              "\n",
              "        VRDeck  Transported  \n",
              "0     0.000000        False  \n",
              "1    44.000000         True  \n",
              "2    49.000000        False  \n",
              "3   193.000000        False  \n",
              "4     2.000000         True  \n",
              "5     0.000000         True  \n",
              "6     0.000000         True  \n",
              "7   304.854791         True  \n",
              "8     0.000000         True  \n",
              "9     0.000000         True  \n",
              "10    0.000000         True  \n",
              "11  124.000000         True  \n",
              "12  113.000000         True  \n",
              "13   24.000000        False  \n",
              "14    7.000000         True  \n",
              "15    0.000000        False  \n",
              "16    0.000000        False  \n",
              "17  637.000000        False  \n",
              "18    0.000000         True  \n",
              "19    0.000000         True  "
            ],
            "text/html": [
              "\n",
              "  <div id=\"df-fb386ef2-7461-4ef5-8f54-ee882e581a45\">\n",
              "    <div class=\"colab-df-container\">\n",
              "      <div>\n",
              "<style scoped>\n",
              "    .dataframe tbody tr th:only-of-type {\n",
              "        vertical-align: middle;\n",
              "    }\n",
              "\n",
              "    .dataframe tbody tr th {\n",
              "        vertical-align: top;\n",
              "    }\n",
              "\n",
              "    .dataframe thead th {\n",
              "        text-align: right;\n",
              "    }\n",
              "</style>\n",
              "<table border=\"1\" class=\"dataframe\">\n",
              "  <thead>\n",
              "    <tr style=\"text-align: right;\">\n",
              "      <th></th>\n",
              "      <th>CryoSleep</th>\n",
              "      <th>Age</th>\n",
              "      <th>VIP</th>\n",
              "      <th>RoomService</th>\n",
              "      <th>FoodCourt</th>\n",
              "      <th>ShoppingMall</th>\n",
              "      <th>Spa</th>\n",
              "      <th>VRDeck</th>\n",
              "      <th>Transported</th>\n",
              "    </tr>\n",
              "  </thead>\n",
              "  <tbody>\n",
              "    <tr>\n",
              "      <th>0</th>\n",
              "      <td>False</td>\n",
              "      <td>39.0</td>\n",
              "      <td>False</td>\n",
              "      <td>0.0</td>\n",
              "      <td>0.0</td>\n",
              "      <td>0.0</td>\n",
              "      <td>0.0</td>\n",
              "      <td>0.000000</td>\n",
              "      <td>False</td>\n",
              "    </tr>\n",
              "    <tr>\n",
              "      <th>1</th>\n",
              "      <td>False</td>\n",
              "      <td>24.0</td>\n",
              "      <td>False</td>\n",
              "      <td>109.0</td>\n",
              "      <td>9.0</td>\n",
              "      <td>25.0</td>\n",
              "      <td>549.0</td>\n",
              "      <td>44.000000</td>\n",
              "      <td>True</td>\n",
              "    </tr>\n",
              "    <tr>\n",
              "      <th>2</th>\n",
              "      <td>False</td>\n",
              "      <td>58.0</td>\n",
              "      <td>True</td>\n",
              "      <td>43.0</td>\n",
              "      <td>3576.0</td>\n",
              "      <td>0.0</td>\n",
              "      <td>6715.0</td>\n",
              "      <td>49.000000</td>\n",
              "      <td>False</td>\n",
              "    </tr>\n",
              "    <tr>\n",
              "      <th>3</th>\n",
              "      <td>False</td>\n",
              "      <td>33.0</td>\n",
              "      <td>False</td>\n",
              "      <td>0.0</td>\n",
              "      <td>1283.0</td>\n",
              "      <td>371.0</td>\n",
              "      <td>3329.0</td>\n",
              "      <td>193.000000</td>\n",
              "      <td>False</td>\n",
              "    </tr>\n",
              "    <tr>\n",
              "      <th>4</th>\n",
              "      <td>False</td>\n",
              "      <td>16.0</td>\n",
              "      <td>False</td>\n",
              "      <td>303.0</td>\n",
              "      <td>70.0</td>\n",
              "      <td>151.0</td>\n",
              "      <td>565.0</td>\n",
              "      <td>2.000000</td>\n",
              "      <td>True</td>\n",
              "    </tr>\n",
              "    <tr>\n",
              "      <th>5</th>\n",
              "      <td>False</td>\n",
              "      <td>44.0</td>\n",
              "      <td>False</td>\n",
              "      <td>0.0</td>\n",
              "      <td>483.0</td>\n",
              "      <td>0.0</td>\n",
              "      <td>291.0</td>\n",
              "      <td>0.000000</td>\n",
              "      <td>True</td>\n",
              "    </tr>\n",
              "    <tr>\n",
              "      <th>6</th>\n",
              "      <td>False</td>\n",
              "      <td>26.0</td>\n",
              "      <td>False</td>\n",
              "      <td>42.0</td>\n",
              "      <td>1539.0</td>\n",
              "      <td>3.0</td>\n",
              "      <td>0.0</td>\n",
              "      <td>0.000000</td>\n",
              "      <td>True</td>\n",
              "    </tr>\n",
              "    <tr>\n",
              "      <th>7</th>\n",
              "      <td>True</td>\n",
              "      <td>28.0</td>\n",
              "      <td>False</td>\n",
              "      <td>0.0</td>\n",
              "      <td>0.0</td>\n",
              "      <td>0.0</td>\n",
              "      <td>0.0</td>\n",
              "      <td>304.854791</td>\n",
              "      <td>True</td>\n",
              "    </tr>\n",
              "    <tr>\n",
              "      <th>8</th>\n",
              "      <td>False</td>\n",
              "      <td>35.0</td>\n",
              "      <td>False</td>\n",
              "      <td>0.0</td>\n",
              "      <td>785.0</td>\n",
              "      <td>17.0</td>\n",
              "      <td>216.0</td>\n",
              "      <td>0.000000</td>\n",
              "      <td>True</td>\n",
              "    </tr>\n",
              "    <tr>\n",
              "      <th>9</th>\n",
              "      <td>True</td>\n",
              "      <td>14.0</td>\n",
              "      <td>False</td>\n",
              "      <td>0.0</td>\n",
              "      <td>0.0</td>\n",
              "      <td>0.0</td>\n",
              "      <td>0.0</td>\n",
              "      <td>0.000000</td>\n",
              "      <td>True</td>\n",
              "    </tr>\n",
              "    <tr>\n",
              "      <th>10</th>\n",
              "      <td>True</td>\n",
              "      <td>34.0</td>\n",
              "      <td>False</td>\n",
              "      <td>0.0</td>\n",
              "      <td>0.0</td>\n",
              "      <td>0.0</td>\n",
              "      <td>0.0</td>\n",
              "      <td>0.000000</td>\n",
              "      <td>True</td>\n",
              "    </tr>\n",
              "    <tr>\n",
              "      <th>11</th>\n",
              "      <td>False</td>\n",
              "      <td>45.0</td>\n",
              "      <td>False</td>\n",
              "      <td>39.0</td>\n",
              "      <td>7295.0</td>\n",
              "      <td>589.0</td>\n",
              "      <td>110.0</td>\n",
              "      <td>124.000000</td>\n",
              "      <td>True</td>\n",
              "    </tr>\n",
              "    <tr>\n",
              "      <th>12</th>\n",
              "      <td>False</td>\n",
              "      <td>32.0</td>\n",
              "      <td>False</td>\n",
              "      <td>73.0</td>\n",
              "      <td>0.0</td>\n",
              "      <td>1123.0</td>\n",
              "      <td>0.0</td>\n",
              "      <td>113.000000</td>\n",
              "      <td>True</td>\n",
              "    </tr>\n",
              "    <tr>\n",
              "      <th>13</th>\n",
              "      <td>False</td>\n",
              "      <td>48.0</td>\n",
              "      <td>False</td>\n",
              "      <td>719.0</td>\n",
              "      <td>1.0</td>\n",
              "      <td>65.0</td>\n",
              "      <td>0.0</td>\n",
              "      <td>24.000000</td>\n",
              "      <td>False</td>\n",
              "    </tr>\n",
              "    <tr>\n",
              "      <th>14</th>\n",
              "      <td>False</td>\n",
              "      <td>28.0</td>\n",
              "      <td>False</td>\n",
              "      <td>8.0</td>\n",
              "      <td>974.0</td>\n",
              "      <td>12.0</td>\n",
              "      <td>2.0</td>\n",
              "      <td>7.000000</td>\n",
              "      <td>True</td>\n",
              "    </tr>\n",
              "    <tr>\n",
              "      <th>15</th>\n",
              "      <td>False</td>\n",
              "      <td>31.0</td>\n",
              "      <td>False</td>\n",
              "      <td>32.0</td>\n",
              "      <td>0.0</td>\n",
              "      <td>876.0</td>\n",
              "      <td>0.0</td>\n",
              "      <td>0.000000</td>\n",
              "      <td>False</td>\n",
              "    </tr>\n",
              "    <tr>\n",
              "      <th>16</th>\n",
              "      <td>False</td>\n",
              "      <td>27.0</td>\n",
              "      <td>False</td>\n",
              "      <td>1286.0</td>\n",
              "      <td>122.0</td>\n",
              "      <td>0.0</td>\n",
              "      <td>0.0</td>\n",
              "      <td>0.000000</td>\n",
              "      <td>False</td>\n",
              "    </tr>\n",
              "    <tr>\n",
              "      <th>17</th>\n",
              "      <td>False</td>\n",
              "      <td>24.0</td>\n",
              "      <td>False</td>\n",
              "      <td>0.0</td>\n",
              "      <td>1.0</td>\n",
              "      <td>0.0</td>\n",
              "      <td>0.0</td>\n",
              "      <td>637.000000</td>\n",
              "      <td>False</td>\n",
              "    </tr>\n",
              "    <tr>\n",
              "      <th>18</th>\n",
              "      <td>True</td>\n",
              "      <td>45.0</td>\n",
              "      <td>False</td>\n",
              "      <td>0.0</td>\n",
              "      <td>0.0</td>\n",
              "      <td>0.0</td>\n",
              "      <td>0.0</td>\n",
              "      <td>0.000000</td>\n",
              "      <td>True</td>\n",
              "    </tr>\n",
              "    <tr>\n",
              "      <th>19</th>\n",
              "      <td>False</td>\n",
              "      <td>0.0</td>\n",
              "      <td>False</td>\n",
              "      <td>0.0</td>\n",
              "      <td>0.0</td>\n",
              "      <td>0.0</td>\n",
              "      <td>0.0</td>\n",
              "      <td>0.000000</td>\n",
              "      <td>True</td>\n",
              "    </tr>\n",
              "  </tbody>\n",
              "</table>\n",
              "</div>\n",
              "      <button class=\"colab-df-convert\" onclick=\"convertToInteractive('df-fb386ef2-7461-4ef5-8f54-ee882e581a45')\"\n",
              "              title=\"Convert this dataframe to an interactive table.\"\n",
              "              style=\"display:none;\">\n",
              "        \n",
              "  <svg xmlns=\"http://www.w3.org/2000/svg\" height=\"24px\"viewBox=\"0 0 24 24\"\n",
              "       width=\"24px\">\n",
              "    <path d=\"M0 0h24v24H0V0z\" fill=\"none\"/>\n",
              "    <path d=\"M18.56 5.44l.94 2.06.94-2.06 2.06-.94-2.06-.94-.94-2.06-.94 2.06-2.06.94zm-11 1L8.5 8.5l.94-2.06 2.06-.94-2.06-.94L8.5 2.5l-.94 2.06-2.06.94zm10 10l.94 2.06.94-2.06 2.06-.94-2.06-.94-.94-2.06-.94 2.06-2.06.94z\"/><path d=\"M17.41 7.96l-1.37-1.37c-.4-.4-.92-.59-1.43-.59-.52 0-1.04.2-1.43.59L10.3 9.45l-7.72 7.72c-.78.78-.78 2.05 0 2.83L4 21.41c.39.39.9.59 1.41.59.51 0 1.02-.2 1.41-.59l7.78-7.78 2.81-2.81c.8-.78.8-2.07 0-2.86zM5.41 20L4 18.59l7.72-7.72 1.47 1.35L5.41 20z\"/>\n",
              "  </svg>\n",
              "      </button>\n",
              "      \n",
              "  <style>\n",
              "    .colab-df-container {\n",
              "      display:flex;\n",
              "      flex-wrap:wrap;\n",
              "      gap: 12px;\n",
              "    }\n",
              "\n",
              "    .colab-df-convert {\n",
              "      background-color: #E8F0FE;\n",
              "      border: none;\n",
              "      border-radius: 50%;\n",
              "      cursor: pointer;\n",
              "      display: none;\n",
              "      fill: #1967D2;\n",
              "      height: 32px;\n",
              "      padding: 0 0 0 0;\n",
              "      width: 32px;\n",
              "    }\n",
              "\n",
              "    .colab-df-convert:hover {\n",
              "      background-color: #E2EBFA;\n",
              "      box-shadow: 0px 1px 2px rgba(60, 64, 67, 0.3), 0px 1px 3px 1px rgba(60, 64, 67, 0.15);\n",
              "      fill: #174EA6;\n",
              "    }\n",
              "\n",
              "    [theme=dark] .colab-df-convert {\n",
              "      background-color: #3B4455;\n",
              "      fill: #D2E3FC;\n",
              "    }\n",
              "\n",
              "    [theme=dark] .colab-df-convert:hover {\n",
              "      background-color: #434B5C;\n",
              "      box-shadow: 0px 1px 3px 1px rgba(0, 0, 0, 0.15);\n",
              "      filter: drop-shadow(0px 1px 2px rgba(0, 0, 0, 0.3));\n",
              "      fill: #FFFFFF;\n",
              "    }\n",
              "  </style>\n",
              "\n",
              "      <script>\n",
              "        const buttonEl =\n",
              "          document.querySelector('#df-fb386ef2-7461-4ef5-8f54-ee882e581a45 button.colab-df-convert');\n",
              "        buttonEl.style.display =\n",
              "          google.colab.kernel.accessAllowed ? 'block' : 'none';\n",
              "\n",
              "        async function convertToInteractive(key) {\n",
              "          const element = document.querySelector('#df-fb386ef2-7461-4ef5-8f54-ee882e581a45');\n",
              "          const dataTable =\n",
              "            await google.colab.kernel.invokeFunction('convertToInteractive',\n",
              "                                                     [key], {});\n",
              "          if (!dataTable) return;\n",
              "\n",
              "          const docLinkHtml = 'Like what you see? Visit the ' +\n",
              "            '<a target=\"_blank\" href=https://colab.research.google.com/notebooks/data_table.ipynb>data table notebook</a>'\n",
              "            + ' to learn more about interactive tables.';\n",
              "          element.innerHTML = '';\n",
              "          dataTable['output_type'] = 'display_data';\n",
              "          await google.colab.output.renderOutput(dataTable, element);\n",
              "          const docLink = document.createElement('div');\n",
              "          docLink.innerHTML = docLinkHtml;\n",
              "          element.appendChild(docLink);\n",
              "        }\n",
              "      </script>\n",
              "    </div>\n",
              "  </div>\n",
              "  "
            ]
          },
          "metadata": {},
          "execution_count": 10
        }
      ]
    },
    {
      "cell_type": "code",
      "source": [
        "titanic.shape"
      ],
      "metadata": {
        "colab": {
          "base_uri": "https://localhost:8080/"
        },
        "id": "ureebtmgGtpj",
        "outputId": "31e22cba-4118-427d-aad6-5f7e7b1c251d"
      },
      "execution_count": 11,
      "outputs": [
        {
          "output_type": "execute_result",
          "data": {
            "text/plain": [
              "(8280, 9)"
            ]
          },
          "metadata": {},
          "execution_count": 11
        }
      ]
    },
    {
      "cell_type": "markdown",
      "source": [
        "Splitting into features and labels"
      ],
      "metadata": {
        "id": "c_34AMPINJwt"
      }
    },
    {
      "cell_type": "code",
      "source": [
        "X= titanic.drop(\"Transported\",axis=1)\n",
        "\n",
        "y=titanic[\"Transported\"]"
      ],
      "metadata": {
        "id": "ntnYt5w6NGL_"
      },
      "execution_count": 12,
      "outputs": []
    },
    {
      "cell_type": "markdown",
      "source": [
        "Splitting into training and testing data"
      ],
      "metadata": {
        "id": "vkK3aBDlNr5k"
      }
    },
    {
      "cell_type": "code",
      "source": [
        "X_train, X_test, y_train, y_test = train_test_split(X, y, test_size=0.25, random_state = 42, stratify=y)"
      ],
      "metadata": {
        "id": "Ce_GWpuFNwOo"
      },
      "execution_count": 13,
      "outputs": []
    },
    {
      "cell_type": "markdown",
      "source": [
        "Defining the preprocessing steps"
      ],
      "metadata": {
        "id": "qW77JmnZHIk0"
      }
    },
    {
      "cell_type": "code",
      "source": [
        "numerical_features = ['Age', 'RoomService',\t'FoodCourt',\t'ShoppingMall',\t'Spa',\t'VRDeck']\n",
        "categorical_features=['CryoSleep','VIP']\n",
        "\n",
        "num_pipeline = Pipeline(steps=[\n",
        "    ('imputer', SimpleImputer(strategy='mean')),\n",
        "    ('scaler', StandardScaler())\n",
        "]\n",
        "                        )\n",
        "cat_pipeline = Pipeline(steps=[\n",
        "    ('imputer',SimpleImputer(strategy = 'most_frequent')),\n",
        "    ('encoder',OneHotEncoder())\n",
        "])\n",
        "\n",
        "preprocessor = ColumnTransformer(\n",
        "    transformers=[\n",
        "        ('num',num_pipeline,numerical_features),\n",
        "        ('cat', cat_pipeline, categorical_features)\n",
        "    ],\n",
        "    remainder = 'passthrough'\n",
        ")"
      ],
      "metadata": {
        "id": "lAZW1muYHLjY"
      },
      "execution_count": 14,
      "outputs": []
    },
    {
      "cell_type": "markdown",
      "source": [
        "Creating the ML model"
      ],
      "metadata": {
        "id": "RAuMAtr0JQXU"
      }
    },
    {
      "cell_type": "code",
      "source": [
        "model = RandomForestClassifier(random_state = 42)"
      ],
      "metadata": {
        "id": "6YiX5NTmJSuH"
      },
      "execution_count": 15,
      "outputs": []
    },
    {
      "cell_type": "markdown",
      "source": [
        "Building the pipeline"
      ],
      "metadata": {
        "id": "ucR4I1-kJt9t"
      }
    },
    {
      "cell_type": "code",
      "source": [
        "pipeline =Pipeline(steps=[\n",
        "    ('preprocessor', preprocessor),\n",
        "    ('classifier', model)\n",
        "])"
      ],
      "metadata": {
        "id": "5vJMNFzkJwAk"
      },
      "execution_count": 16,
      "outputs": []
    },
    {
      "cell_type": "markdown",
      "source": [
        "Performing Cross-Validation using StratifiedKFold"
      ],
      "metadata": {
        "id": "HC4_M1vJKVPX"
      }
    },
    {
      "cell_type": "code",
      "source": [
        "cv = StratifiedKFold(n_splits=5, shuffle=True, random_state=42)\n",
        "\n",
        "cv_scores = cross_val_score(pipeline, X_train, y_train, cv=cv, scoring='accuracy')\n",
        "\n",
        "run[\"cross_val_accuracy_scores\"]= cv_scores\n",
        "\n",
        "run[\"mean_cross_val_accuracy_scores\"]= np.mean(cv_scores)"
      ],
      "metadata": {
        "colab": {
          "base_uri": "https://localhost:8080/"
        },
        "id": "c8rjXIDZKbs4",
        "outputId": "4770af6f-84d9-4a3f-9b32-fdcad9ac6a65"
      },
      "execution_count": 17,
      "outputs": [
        {
          "output_type": "stream",
          "name": "stderr",
          "text": [
            "<ipython-input-17-efd633d92db3>:5: NeptuneDeprecationWarning: The object you're logging will be implicitly cast to a string. We'll end support of this behavior in `neptune-client==1.0.0`. To log the object as a string, use `str(object)` or `repr(object)` instead. For details, see https://docs.neptune.ai/setup/neptune-client_1-0_release_changes\n",
            "  run[\"cross_val_accuracy_scores\"]= cv_scores\n"
          ]
        }
      ]
    },
    {
      "cell_type": "code",
      "source": [
        "titanic.describe\n"
      ],
      "metadata": {
        "colab": {
          "base_uri": "https://localhost:8080/"
        },
        "id": "NQcLS0EwNG97",
        "outputId": "c8be56c3-3512-47a8-b857-c387ed67298f"
      },
      "execution_count": 18,
      "outputs": [
        {
          "output_type": "stream",
          "name": "stderr",
          "text": [
            "/usr/local/lib/python3.10/dist-packages/IPython/lib/pretty.py:700: FutureWarning: In a future version, object-dtype columns with all-bool values will not be included in reductions with bool_only=True. Explicitly cast to bool dtype instead.\n",
            "  output = repr(obj)\n"
          ]
        },
        {
          "output_type": "execute_result",
          "data": {
            "text/plain": [
              "<bound method NDFrame.describe of      CryoSleep   Age    VIP  RoomService  FoodCourt  ShoppingMall     Spa  \\\n",
              "0        False  39.0  False          0.0        0.0           0.0     0.0   \n",
              "1        False  24.0  False        109.0        9.0          25.0   549.0   \n",
              "2        False  58.0   True         43.0     3576.0           0.0  6715.0   \n",
              "3        False  33.0  False          0.0     1283.0         371.0  3329.0   \n",
              "4        False  16.0  False        303.0       70.0         151.0   565.0   \n",
              "...        ...   ...    ...          ...        ...           ...     ...   \n",
              "8688     False  41.0   True          0.0     6819.0           0.0  1643.0   \n",
              "8689      True  18.0  False          0.0        0.0           0.0     0.0   \n",
              "8690     False  26.0  False          0.0        0.0        1872.0     1.0   \n",
              "8691     False  32.0  False          0.0     1049.0           0.0   353.0   \n",
              "8692     False  44.0  False        126.0     4688.0           0.0     0.0   \n",
              "\n",
              "      VRDeck  Transported  \n",
              "0        0.0        False  \n",
              "1       44.0         True  \n",
              "2       49.0        False  \n",
              "3      193.0        False  \n",
              "4        2.0         True  \n",
              "...      ...          ...  \n",
              "8688    74.0        False  \n",
              "8689     0.0        False  \n",
              "8690     0.0         True  \n",
              "8691  3235.0        False  \n",
              "8692    12.0         True  \n",
              "\n",
              "[8280 rows x 9 columns]>"
            ]
          },
          "metadata": {},
          "execution_count": 18
        }
      ]
    },
    {
      "cell_type": "markdown",
      "source": [
        "Training the pipeline"
      ],
      "metadata": {
        "id": "IzODaXp4OMxP"
      }
    },
    {
      "cell_type": "code",
      "source": [
        "pipeline.fit(X_train,y_train)"
      ],
      "metadata": {
        "colab": {
          "base_uri": "https://localhost:8080/",
          "height": 223
        },
        "id": "ZsmVRZHnOOzh",
        "outputId": "bfbd354f-806d-4ecd-b3eb-1e5f3a2faade"
      },
      "execution_count": 19,
      "outputs": [
        {
          "output_type": "execute_result",
          "data": {
            "text/plain": [
              "Pipeline(steps=[('preprocessor',\n",
              "                 ColumnTransformer(remainder='passthrough',\n",
              "                                   transformers=[('num',\n",
              "                                                  Pipeline(steps=[('imputer',\n",
              "                                                                   SimpleImputer()),\n",
              "                                                                  ('scaler',\n",
              "                                                                   StandardScaler())]),\n",
              "                                                  ['Age', 'RoomService',\n",
              "                                                   'FoodCourt', 'ShoppingMall',\n",
              "                                                   'Spa', 'VRDeck']),\n",
              "                                                 ('cat',\n",
              "                                                  Pipeline(steps=[('imputer',\n",
              "                                                                   SimpleImputer(strategy='most_frequent')),\n",
              "                                                                  ('encoder',\n",
              "                                                                   OneHotEncoder())]),\n",
              "                                                  ['CryoSleep', 'VIP'])])),\n",
              "                ('classifier', RandomForestClassifier(random_state=42))])"
            ],
            "text/html": [
              "<style>#sk-container-id-1 {color: black;background-color: white;}#sk-container-id-1 pre{padding: 0;}#sk-container-id-1 div.sk-toggleable {background-color: white;}#sk-container-id-1 label.sk-toggleable__label {cursor: pointer;display: block;width: 100%;margin-bottom: 0;padding: 0.3em;box-sizing: border-box;text-align: center;}#sk-container-id-1 label.sk-toggleable__label-arrow:before {content: \"▸\";float: left;margin-right: 0.25em;color: #696969;}#sk-container-id-1 label.sk-toggleable__label-arrow:hover:before {color: black;}#sk-container-id-1 div.sk-estimator:hover label.sk-toggleable__label-arrow:before {color: black;}#sk-container-id-1 div.sk-toggleable__content {max-height: 0;max-width: 0;overflow: hidden;text-align: left;background-color: #f0f8ff;}#sk-container-id-1 div.sk-toggleable__content pre {margin: 0.2em;color: black;border-radius: 0.25em;background-color: #f0f8ff;}#sk-container-id-1 input.sk-toggleable__control:checked~div.sk-toggleable__content {max-height: 200px;max-width: 100%;overflow: auto;}#sk-container-id-1 input.sk-toggleable__control:checked~label.sk-toggleable__label-arrow:before {content: \"▾\";}#sk-container-id-1 div.sk-estimator input.sk-toggleable__control:checked~label.sk-toggleable__label {background-color: #d4ebff;}#sk-container-id-1 div.sk-label input.sk-toggleable__control:checked~label.sk-toggleable__label {background-color: #d4ebff;}#sk-container-id-1 input.sk-hidden--visually {border: 0;clip: rect(1px 1px 1px 1px);clip: rect(1px, 1px, 1px, 1px);height: 1px;margin: -1px;overflow: hidden;padding: 0;position: absolute;width: 1px;}#sk-container-id-1 div.sk-estimator {font-family: monospace;background-color: #f0f8ff;border: 1px dotted black;border-radius: 0.25em;box-sizing: border-box;margin-bottom: 0.5em;}#sk-container-id-1 div.sk-estimator:hover {background-color: #d4ebff;}#sk-container-id-1 div.sk-parallel-item::after {content: \"\";width: 100%;border-bottom: 1px solid gray;flex-grow: 1;}#sk-container-id-1 div.sk-label:hover label.sk-toggleable__label {background-color: #d4ebff;}#sk-container-id-1 div.sk-serial::before {content: \"\";position: absolute;border-left: 1px solid gray;box-sizing: border-box;top: 0;bottom: 0;left: 50%;z-index: 0;}#sk-container-id-1 div.sk-serial {display: flex;flex-direction: column;align-items: center;background-color: white;padding-right: 0.2em;padding-left: 0.2em;position: relative;}#sk-container-id-1 div.sk-item {position: relative;z-index: 1;}#sk-container-id-1 div.sk-parallel {display: flex;align-items: stretch;justify-content: center;background-color: white;position: relative;}#sk-container-id-1 div.sk-item::before, #sk-container-id-1 div.sk-parallel-item::before {content: \"\";position: absolute;border-left: 1px solid gray;box-sizing: border-box;top: 0;bottom: 0;left: 50%;z-index: -1;}#sk-container-id-1 div.sk-parallel-item {display: flex;flex-direction: column;z-index: 1;position: relative;background-color: white;}#sk-container-id-1 div.sk-parallel-item:first-child::after {align-self: flex-end;width: 50%;}#sk-container-id-1 div.sk-parallel-item:last-child::after {align-self: flex-start;width: 50%;}#sk-container-id-1 div.sk-parallel-item:only-child::after {width: 0;}#sk-container-id-1 div.sk-dashed-wrapped {border: 1px dashed gray;margin: 0 0.4em 0.5em 0.4em;box-sizing: border-box;padding-bottom: 0.4em;background-color: white;}#sk-container-id-1 div.sk-label label {font-family: monospace;font-weight: bold;display: inline-block;line-height: 1.2em;}#sk-container-id-1 div.sk-label-container {text-align: center;}#sk-container-id-1 div.sk-container {/* jupyter's `normalize.less` sets `[hidden] { display: none; }` but bootstrap.min.css set `[hidden] { display: none !important; }` so we also need the `!important` here to be able to override the default hidden behavior on the sphinx rendered scikit-learn.org. See: https://github.com/scikit-learn/scikit-learn/issues/21755 */display: inline-block !important;position: relative;}#sk-container-id-1 div.sk-text-repr-fallback {display: none;}</style><div id=\"sk-container-id-1\" class=\"sk-top-container\"><div class=\"sk-text-repr-fallback\"><pre>Pipeline(steps=[(&#x27;preprocessor&#x27;,\n",
              "                 ColumnTransformer(remainder=&#x27;passthrough&#x27;,\n",
              "                                   transformers=[(&#x27;num&#x27;,\n",
              "                                                  Pipeline(steps=[(&#x27;imputer&#x27;,\n",
              "                                                                   SimpleImputer()),\n",
              "                                                                  (&#x27;scaler&#x27;,\n",
              "                                                                   StandardScaler())]),\n",
              "                                                  [&#x27;Age&#x27;, &#x27;RoomService&#x27;,\n",
              "                                                   &#x27;FoodCourt&#x27;, &#x27;ShoppingMall&#x27;,\n",
              "                                                   &#x27;Spa&#x27;, &#x27;VRDeck&#x27;]),\n",
              "                                                 (&#x27;cat&#x27;,\n",
              "                                                  Pipeline(steps=[(&#x27;imputer&#x27;,\n",
              "                                                                   SimpleImputer(strategy=&#x27;most_frequent&#x27;)),\n",
              "                                                                  (&#x27;encoder&#x27;,\n",
              "                                                                   OneHotEncoder())]),\n",
              "                                                  [&#x27;CryoSleep&#x27;, &#x27;VIP&#x27;])])),\n",
              "                (&#x27;classifier&#x27;, RandomForestClassifier(random_state=42))])</pre><b>In a Jupyter environment, please rerun this cell to show the HTML representation or trust the notebook. <br />On GitHub, the HTML representation is unable to render, please try loading this page with nbviewer.org.</b></div><div class=\"sk-container\" hidden><div class=\"sk-item sk-dashed-wrapped\"><div class=\"sk-label-container\"><div class=\"sk-label sk-toggleable\"><input class=\"sk-toggleable__control sk-hidden--visually\" id=\"sk-estimator-id-1\" type=\"checkbox\" ><label for=\"sk-estimator-id-1\" class=\"sk-toggleable__label sk-toggleable__label-arrow\">Pipeline</label><div class=\"sk-toggleable__content\"><pre>Pipeline(steps=[(&#x27;preprocessor&#x27;,\n",
              "                 ColumnTransformer(remainder=&#x27;passthrough&#x27;,\n",
              "                                   transformers=[(&#x27;num&#x27;,\n",
              "                                                  Pipeline(steps=[(&#x27;imputer&#x27;,\n",
              "                                                                   SimpleImputer()),\n",
              "                                                                  (&#x27;scaler&#x27;,\n",
              "                                                                   StandardScaler())]),\n",
              "                                                  [&#x27;Age&#x27;, &#x27;RoomService&#x27;,\n",
              "                                                   &#x27;FoodCourt&#x27;, &#x27;ShoppingMall&#x27;,\n",
              "                                                   &#x27;Spa&#x27;, &#x27;VRDeck&#x27;]),\n",
              "                                                 (&#x27;cat&#x27;,\n",
              "                                                  Pipeline(steps=[(&#x27;imputer&#x27;,\n",
              "                                                                   SimpleImputer(strategy=&#x27;most_frequent&#x27;)),\n",
              "                                                                  (&#x27;encoder&#x27;,\n",
              "                                                                   OneHotEncoder())]),\n",
              "                                                  [&#x27;CryoSleep&#x27;, &#x27;VIP&#x27;])])),\n",
              "                (&#x27;classifier&#x27;, RandomForestClassifier(random_state=42))])</pre></div></div></div><div class=\"sk-serial\"><div class=\"sk-item sk-dashed-wrapped\"><div class=\"sk-label-container\"><div class=\"sk-label sk-toggleable\"><input class=\"sk-toggleable__control sk-hidden--visually\" id=\"sk-estimator-id-2\" type=\"checkbox\" ><label for=\"sk-estimator-id-2\" class=\"sk-toggleable__label sk-toggleable__label-arrow\">preprocessor: ColumnTransformer</label><div class=\"sk-toggleable__content\"><pre>ColumnTransformer(remainder=&#x27;passthrough&#x27;,\n",
              "                  transformers=[(&#x27;num&#x27;,\n",
              "                                 Pipeline(steps=[(&#x27;imputer&#x27;, SimpleImputer()),\n",
              "                                                 (&#x27;scaler&#x27;, StandardScaler())]),\n",
              "                                 [&#x27;Age&#x27;, &#x27;RoomService&#x27;, &#x27;FoodCourt&#x27;,\n",
              "                                  &#x27;ShoppingMall&#x27;, &#x27;Spa&#x27;, &#x27;VRDeck&#x27;]),\n",
              "                                (&#x27;cat&#x27;,\n",
              "                                 Pipeline(steps=[(&#x27;imputer&#x27;,\n",
              "                                                  SimpleImputer(strategy=&#x27;most_frequent&#x27;)),\n",
              "                                                 (&#x27;encoder&#x27;, OneHotEncoder())]),\n",
              "                                 [&#x27;CryoSleep&#x27;, &#x27;VIP&#x27;])])</pre></div></div></div><div class=\"sk-parallel\"><div class=\"sk-parallel-item\"><div class=\"sk-item\"><div class=\"sk-label-container\"><div class=\"sk-label sk-toggleable\"><input class=\"sk-toggleable__control sk-hidden--visually\" id=\"sk-estimator-id-3\" type=\"checkbox\" ><label for=\"sk-estimator-id-3\" class=\"sk-toggleable__label sk-toggleable__label-arrow\">num</label><div class=\"sk-toggleable__content\"><pre>[&#x27;Age&#x27;, &#x27;RoomService&#x27;, &#x27;FoodCourt&#x27;, &#x27;ShoppingMall&#x27;, &#x27;Spa&#x27;, &#x27;VRDeck&#x27;]</pre></div></div></div><div class=\"sk-serial\"><div class=\"sk-item\"><div class=\"sk-serial\"><div class=\"sk-item\"><div class=\"sk-estimator sk-toggleable\"><input class=\"sk-toggleable__control sk-hidden--visually\" id=\"sk-estimator-id-4\" type=\"checkbox\" ><label for=\"sk-estimator-id-4\" class=\"sk-toggleable__label sk-toggleable__label-arrow\">SimpleImputer</label><div class=\"sk-toggleable__content\"><pre>SimpleImputer()</pre></div></div></div><div class=\"sk-item\"><div class=\"sk-estimator sk-toggleable\"><input class=\"sk-toggleable__control sk-hidden--visually\" id=\"sk-estimator-id-5\" type=\"checkbox\" ><label for=\"sk-estimator-id-5\" class=\"sk-toggleable__label sk-toggleable__label-arrow\">StandardScaler</label><div class=\"sk-toggleable__content\"><pre>StandardScaler()</pre></div></div></div></div></div></div></div></div><div class=\"sk-parallel-item\"><div class=\"sk-item\"><div class=\"sk-label-container\"><div class=\"sk-label sk-toggleable\"><input class=\"sk-toggleable__control sk-hidden--visually\" id=\"sk-estimator-id-6\" type=\"checkbox\" ><label for=\"sk-estimator-id-6\" class=\"sk-toggleable__label sk-toggleable__label-arrow\">cat</label><div class=\"sk-toggleable__content\"><pre>[&#x27;CryoSleep&#x27;, &#x27;VIP&#x27;]</pre></div></div></div><div class=\"sk-serial\"><div class=\"sk-item\"><div class=\"sk-serial\"><div class=\"sk-item\"><div class=\"sk-estimator sk-toggleable\"><input class=\"sk-toggleable__control sk-hidden--visually\" id=\"sk-estimator-id-7\" type=\"checkbox\" ><label for=\"sk-estimator-id-7\" class=\"sk-toggleable__label sk-toggleable__label-arrow\">SimpleImputer</label><div class=\"sk-toggleable__content\"><pre>SimpleImputer(strategy=&#x27;most_frequent&#x27;)</pre></div></div></div><div class=\"sk-item\"><div class=\"sk-estimator sk-toggleable\"><input class=\"sk-toggleable__control sk-hidden--visually\" id=\"sk-estimator-id-8\" type=\"checkbox\" ><label for=\"sk-estimator-id-8\" class=\"sk-toggleable__label sk-toggleable__label-arrow\">OneHotEncoder</label><div class=\"sk-toggleable__content\"><pre>OneHotEncoder()</pre></div></div></div></div></div></div></div></div><div class=\"sk-parallel-item\"><div class=\"sk-item\"><div class=\"sk-label-container\"><div class=\"sk-label sk-toggleable\"><input class=\"sk-toggleable__control sk-hidden--visually\" id=\"sk-estimator-id-9\" type=\"checkbox\" ><label for=\"sk-estimator-id-9\" class=\"sk-toggleable__label sk-toggleable__label-arrow\">remainder</label><div class=\"sk-toggleable__content\"><pre>[]</pre></div></div></div><div class=\"sk-serial\"><div class=\"sk-item\"><div class=\"sk-estimator sk-toggleable\"><input class=\"sk-toggleable__control sk-hidden--visually\" id=\"sk-estimator-id-10\" type=\"checkbox\" ><label for=\"sk-estimator-id-10\" class=\"sk-toggleable__label sk-toggleable__label-arrow\">passthrough</label><div class=\"sk-toggleable__content\"><pre>passthrough</pre></div></div></div></div></div></div></div></div><div class=\"sk-item\"><div class=\"sk-estimator sk-toggleable\"><input class=\"sk-toggleable__control sk-hidden--visually\" id=\"sk-estimator-id-11\" type=\"checkbox\" ><label for=\"sk-estimator-id-11\" class=\"sk-toggleable__label sk-toggleable__label-arrow\">RandomForestClassifier</label><div class=\"sk-toggleable__content\"><pre>RandomForestClassifier(random_state=42)</pre></div></div></div></div></div></div></div>"
            ]
          },
          "metadata": {},
          "execution_count": 19
        }
      ]
    },
    {
      "cell_type": "markdown",
      "source": [
        "Evaluating the pipeline"
      ],
      "metadata": {
        "id": "necHk2zdO53B"
      }
    },
    {
      "cell_type": "code",
      "source": [
        "y_pred = pipeline.predict(X_test)\n",
        "accuracy = accuracy_score(y_test, y_pred)\n",
        "precision = precision_score(y_test, y_pred)\n",
        "recall = recall_score(y_test, y_pred)\n",
        "f1 = f1_score(y_test, y_pred)\n",
        "\n",
        "run[\"accuracy\"] = accuracy\n",
        "run[\"precision\"] = precision\n",
        "run[\"recall\"] = recall\n",
        "run[\"f1\"] = f1"
      ],
      "metadata": {
        "id": "XmB7CXn1O4xa"
      },
      "execution_count": 20,
      "outputs": []
    },
    {
      "cell_type": "markdown",
      "source": [
        "Defining the hyperparameter search space using Optuna"
      ],
      "metadata": {
        "id": "flS9yWEUbvkP"
      }
    },
    {
      "cell_type": "code",
      "source": [
        "def objective(x_train, y_train, pipeline,cv, trial: optuna.trial):\n",
        "  params = {\n",
        "      \"classifier__n_estimators\": trial.suggest_int('classifier__n_estimators',10,200),\n",
        "      \"classifier__max_depth\": trial.suggest_int('classifier__max_depth',10,50),\n",
        "      'classifier__min_samples_split': trial.suggest_int('classifier__min_samples_split',2,10),\n",
        "      'classifier__min_samples_leaf': trial.suggest_int('classifier__min_samples_leaf',1,5),\n",
        "      'classifier__max_features': trial.suggest_categorical('classifier__max_features',['auto','sqrt'])\n",
        "  }\n",
        "\n",
        "  pipeline.set_params(**params)\n",
        "\n",
        "  scores = cross_val_score(pipeline, X_train, y_train, cv=cv, scoring='accuracy', n_jobs=-1)\n",
        "  mean_score = np.mean(scores)\n",
        "\n",
        "  return mean_score\n",
        "  print(mean_score)"
      ],
      "metadata": {
        "id": "s05c6tSEb2Fu"
      },
      "execution_count": 21,
      "outputs": []
    },
    {
      "cell_type": "markdown",
      "source": [
        "Hyperparameter tuning by optuna"
      ],
      "metadata": {
        "id": "rLFquj4kfnV9"
      }
    },
    {
      "cell_type": "code",
      "source": [
        "study = optuna.create_study(direction=\"maximize\",sampler=optuna.samplers.TPESampler(seed=42))\n",
        "\n",
        "study.optimize(partial(objective, X_train, y_train, pipeline, cv),n_trials=50, timeout=None, gc_after_trial=True)"
      ],
      "metadata": {
        "colab": {
          "base_uri": "https://localhost:8080/"
        },
        "id": "PVFdmXnpfrAC",
        "outputId": "a111a8b0-0244-4ef5-a005-28302ebc0932"
      },
      "execution_count": 22,
      "outputs": [
        {
          "output_type": "stream",
          "name": "stderr",
          "text": [
            "\u001b[32m[I 2023-06-14 14:29:32,610]\u001b[0m A new study created in memory with name: no-name-85cff3ec-a882-4ab6-8a38-82cb24a9cc56\u001b[0m\n",
            "\u001b[32m[I 2023-06-14 14:29:35,875]\u001b[0m Trial 0 finished with value: 0.7914653784219001 and parameters: {'classifier__n_estimators': 81, 'classifier__max_depth': 48, 'classifier__min_samples_split': 8, 'classifier__min_samples_leaf': 3, 'classifier__max_features': 'auto'}. Best is trial 0 with value: 0.7914653784219001.\u001b[0m\n",
            "\u001b[32m[I 2023-06-14 14:29:36,519]\u001b[0m Trial 1 finished with value: 0.7909822866344605 and parameters: {'classifier__n_estimators': 21, 'classifier__max_depth': 45, 'classifier__min_samples_split': 7, 'classifier__min_samples_leaf': 4, 'classifier__max_features': 'sqrt'}. Best is trial 0 with value: 0.7914653784219001.\u001b[0m\n",
            "\u001b[32m[I 2023-06-14 14:29:40,362]\u001b[0m Trial 2 finished with value: 0.7850241545893719 and parameters: {'classifier__n_estimators': 168, 'classifier__max_depth': 18, 'classifier__min_samples_split': 3, 'classifier__min_samples_leaf': 1, 'classifier__max_features': 'sqrt'}. Best is trial 0 with value: 0.7914653784219001.\u001b[0m\n",
            "\u001b[32m[I 2023-06-14 14:29:43,331]\u001b[0m Trial 3 finished with value: 0.7859903381642511 and parameters: {'classifier__n_estimators': 92, 'classifier__max_depth': 21, 'classifier__min_samples_split': 7, 'classifier__min_samples_leaf': 1, 'classifier__max_features': 'sqrt'}. Best is trial 0 with value: 0.7914653784219001.\u001b[0m\n",
            "\u001b[32m[I 2023-06-14 14:29:46,279]\u001b[0m Trial 4 finished with value: 0.7885668276972624 and parameters: {'classifier__n_estimators': 97, 'classifier__max_depth': 42, 'classifier__min_samples_split': 3, 'classifier__min_samples_leaf': 3, 'classifier__max_features': 'auto'}. Best is trial 0 with value: 0.7914653784219001.\u001b[0m\n",
            "\u001b[32m[I 2023-06-14 14:29:48,864]\u001b[0m Trial 5 finished with value: 0.7911433172302738 and parameters: {'classifier__n_estimators': 126, 'classifier__max_depth': 16, 'classifier__min_samples_split': 2, 'classifier__min_samples_leaf': 5, 'classifier__max_features': 'auto'}. Best is trial 0 with value: 0.7914653784219001.\u001b[0m\n",
            "\u001b[32m[I 2023-06-14 14:29:50,387]\u001b[0m Trial 6 finished with value: 0.7896940418679549 and parameters: {'classifier__n_estimators': 68, 'classifier__max_depth': 14, 'classifier__min_samples_split': 8, 'classifier__min_samples_leaf': 3, 'classifier__max_features': 'sqrt'}. Best is trial 0 with value: 0.7914653784219001.\u001b[0m\n",
            "\u001b[32m[I 2023-06-14 14:29:50,908]\u001b[0m Trial 7 finished with value: 0.789049919484702 and parameters: {'classifier__n_estimators': 16, 'classifier__max_depth': 47, 'classifier__min_samples_split': 4, 'classifier__min_samples_leaf': 4, 'classifier__max_features': 'sqrt'}. Best is trial 0 with value: 0.7914653784219001.\u001b[0m\n",
            "\u001b[32m[I 2023-06-14 14:29:53,391]\u001b[0m Trial 8 finished with value: 0.7906602254428341 and parameters: {'classifier__n_estimators': 114, 'classifier__max_depth': 17, 'classifier__min_samples_split': 10, 'classifier__min_samples_leaf': 4, 'classifier__max_features': 'auto'}. Best is trial 0 with value: 0.7914653784219001.\u001b[0m\n",
            "\u001b[32m[I 2023-06-14 14:29:57,027]\u001b[0m Trial 9 finished with value: 0.7816425120772946 and parameters: {'classifier__n_estimators': 124, 'classifier__max_depth': 47, 'classifier__min_samples_split': 2, 'classifier__min_samples_leaf': 1, 'classifier__max_features': 'sqrt'}. Best is trial 0 with value: 0.7914653784219001.\u001b[0m\n",
            "\u001b[32m[I 2023-06-14 14:30:01,816]\u001b[0m Trial 10 finished with value: 0.7888888888888889 and parameters: {'classifier__n_estimators': 190, 'classifier__max_depth': 32, 'classifier__min_samples_split': 10, 'classifier__min_samples_leaf': 2, 'classifier__max_features': 'auto'}. Best is trial 0 with value: 0.7914653784219001.\u001b[0m\n",
            "\u001b[32m[I 2023-06-14 14:30:04,808]\u001b[0m Trial 11 finished with value: 0.7898550724637681 and parameters: {'classifier__n_estimators': 146, 'classifier__max_depth': 29, 'classifier__min_samples_split': 5, 'classifier__min_samples_leaf': 5, 'classifier__max_features': 'auto'}. Best is trial 0 with value: 0.7914653784219001.\u001b[0m\n",
            "\u001b[32m[I 2023-06-14 14:30:06,102]\u001b[0m Trial 12 finished with value: 0.7940418679549114 and parameters: {'classifier__n_estimators': 63, 'classifier__max_depth': 10, 'classifier__min_samples_split': 8, 'classifier__min_samples_leaf': 5, 'classifier__max_features': 'auto'}. Best is trial 12 with value: 0.7940418679549114.\u001b[0m\n",
            "\u001b[32m[I 2023-06-14 14:30:07,468]\u001b[0m Trial 13 finished with value: 0.7885668276972624 and parameters: {'classifier__n_estimators': 55, 'classifier__max_depth': 36, 'classifier__min_samples_split': 8, 'classifier__min_samples_leaf': 2, 'classifier__max_features': 'auto'}. Best is trial 12 with value: 0.7940418679549114.\u001b[0m\n",
            "\u001b[32m[I 2023-06-14 14:30:08,677]\u001b[0m Trial 14 finished with value: 0.7927536231884058 and parameters: {'classifier__n_estimators': 56, 'classifier__max_depth': 10, 'classifier__min_samples_split': 9, 'classifier__min_samples_leaf': 2, 'classifier__max_features': 'auto'}. Best is trial 12 with value: 0.7940418679549114.\u001b[0m\n",
            "\u001b[32m[I 2023-06-14 14:30:10,476]\u001b[0m Trial 15 finished with value: 0.7932367149758454 and parameters: {'classifier__n_estimators': 47, 'classifier__max_depth': 10, 'classifier__min_samples_split': 9, 'classifier__min_samples_leaf': 2, 'classifier__max_features': 'auto'}. Best is trial 12 with value: 0.7940418679549114.\u001b[0m\n",
            "\u001b[32m[I 2023-06-14 14:30:11,970]\u001b[0m Trial 16 finished with value: 0.7895330112721417 and parameters: {'classifier__n_estimators': 34, 'classifier__max_depth': 24, 'classifier__min_samples_split': 6, 'classifier__min_samples_leaf': 5, 'classifier__max_features': 'auto'}. Best is trial 12 with value: 0.7940418679549114.\u001b[0m\n",
            "\u001b[32m[I 2023-06-14 14:30:13,115]\u001b[0m Trial 17 finished with value: 0.7933977455716585 and parameters: {'classifier__n_estimators': 43, 'classifier__max_depth': 10, 'classifier__min_samples_split': 9, 'classifier__min_samples_leaf': 4, 'classifier__max_features': 'auto'}. Best is trial 12 with value: 0.7940418679549114.\u001b[0m\n",
            "\u001b[32m[I 2023-06-14 14:30:14,780]\u001b[0m Trial 18 finished with value: 0.7903381642512077 and parameters: {'classifier__n_estimators': 73, 'classifier__max_depth': 26, 'classifier__min_samples_split': 6, 'classifier__min_samples_leaf': 4, 'classifier__max_features': 'auto'}. Best is trial 12 with value: 0.7940418679549114.\u001b[0m\n",
            "\u001b[32m[I 2023-06-14 14:30:15,677]\u001b[0m Trial 19 finished with value: 0.793719806763285 and parameters: {'classifier__n_estimators': 36, 'classifier__max_depth': 13, 'classifier__min_samples_split': 9, 'classifier__min_samples_leaf': 5, 'classifier__max_features': 'auto'}. Best is trial 12 with value: 0.7940418679549114.\u001b[0m\n",
            "\u001b[32m[I 2023-06-14 14:30:16,412]\u001b[0m Trial 20 finished with value: 0.788244766505636 and parameters: {'classifier__n_estimators': 27, 'classifier__max_depth': 22, 'classifier__min_samples_split': 7, 'classifier__min_samples_leaf': 5, 'classifier__max_features': 'auto'}. Best is trial 12 with value: 0.7940418679549114.\u001b[0m\n",
            "\u001b[32m[I 2023-06-14 14:30:17,382]\u001b[0m Trial 21 finished with value: 0.793719806763285 and parameters: {'classifier__n_estimators': 41, 'classifier__max_depth': 13, 'classifier__min_samples_split': 9, 'classifier__min_samples_leaf': 5, 'classifier__max_features': 'auto'}. Best is trial 12 with value: 0.7940418679549114.\u001b[0m\n",
            "\u001b[32m[I 2023-06-14 14:30:17,805]\u001b[0m Trial 22 finished with value: 0.7893719806763284 and parameters: {'classifier__n_estimators': 10, 'classifier__max_depth': 13, 'classifier__min_samples_split': 10, 'classifier__min_samples_leaf': 5, 'classifier__max_features': 'auto'}. Best is trial 12 with value: 0.7940418679549114.\u001b[0m\n",
            "\u001b[32m[I 2023-06-14 14:30:19,227]\u001b[0m Trial 23 finished with value: 0.7901771336553944 and parameters: {'classifier__n_estimators': 62, 'classifier__max_depth': 19, 'classifier__min_samples_split': 9, 'classifier__min_samples_leaf': 5, 'classifier__max_features': 'auto'}. Best is trial 12 with value: 0.7940418679549114.\u001b[0m\n",
            "\u001b[32m[I 2023-06-14 14:30:20,159]\u001b[0m Trial 24 finished with value: 0.792914653784219 and parameters: {'classifier__n_estimators': 37, 'classifier__max_depth': 14, 'classifier__min_samples_split': 8, 'classifier__min_samples_leaf': 5, 'classifier__max_features': 'auto'}. Best is trial 12 with value: 0.7940418679549114.\u001b[0m\n",
            "\u001b[32m[I 2023-06-14 14:30:21,963]\u001b[0m Trial 25 finished with value: 0.7901771336553944 and parameters: {'classifier__n_estimators': 85, 'classifier__max_depth': 13, 'classifier__min_samples_split': 9, 'classifier__min_samples_leaf': 4, 'classifier__max_features': 'auto'}. Best is trial 12 with value: 0.7940418679549114.\u001b[0m\n",
            "\u001b[32m[I 2023-06-14 14:30:23,456]\u001b[0m Trial 26 finished with value: 0.7885668276972624 and parameters: {'classifier__n_estimators': 48, 'classifier__max_depth': 37, 'classifier__min_samples_split': 7, 'classifier__min_samples_leaf': 5, 'classifier__max_features': 'auto'}. Best is trial 12 with value: 0.7940418679549114.\u001b[0m\n",
            "\u001b[32m[I 2023-06-14 14:30:26,255]\u001b[0m Trial 27 finished with value: 0.789049919484702 and parameters: {'classifier__n_estimators': 71, 'classifier__max_depth': 20, 'classifier__min_samples_split': 10, 'classifier__min_samples_leaf': 4, 'classifier__max_features': 'auto'}. Best is trial 12 with value: 0.7940418679549114.\u001b[0m\n",
            "\u001b[32m[I 2023-06-14 14:30:27,054]\u001b[0m Trial 28 finished with value: 0.7893719806763284 and parameters: {'classifier__n_estimators': 28, 'classifier__max_depth': 26, 'classifier__min_samples_split': 8, 'classifier__min_samples_leaf': 5, 'classifier__max_features': 'auto'}. Best is trial 12 with value: 0.7940418679549114.\u001b[0m\n",
            "\u001b[32m[I 2023-06-14 14:30:28,943]\u001b[0m Trial 29 finished with value: 0.7908212560386473 and parameters: {'classifier__n_estimators': 85, 'classifier__max_depth': 16, 'classifier__min_samples_split': 8, 'classifier__min_samples_leaf': 3, 'classifier__max_features': 'auto'}. Best is trial 12 with value: 0.7940418679549114.\u001b[0m\n",
            "\u001b[32m[I 2023-06-14 14:30:31,065]\u001b[0m Trial 30 finished with value: 0.7911433172302738 and parameters: {'classifier__n_estimators': 103, 'classifier__max_depth': 12, 'classifier__min_samples_split': 5, 'classifier__min_samples_leaf': 3, 'classifier__max_features': 'auto'}. Best is trial 12 with value: 0.7940418679549114.\u001b[0m\n",
            "\u001b[32m[I 2023-06-14 14:30:32,250]\u001b[0m Trial 31 finished with value: 0.7933977455716585 and parameters: {'classifier__n_estimators': 43, 'classifier__max_depth': 10, 'classifier__min_samples_split': 9, 'classifier__min_samples_leaf': 4, 'classifier__max_features': 'auto'}. Best is trial 12 with value: 0.7940418679549114.\u001b[0m\n",
            "\u001b[32m[I 2023-06-14 14:30:32,932]\u001b[0m Trial 32 finished with value: 0.7919484702093398 and parameters: {'classifier__n_estimators': 23, 'classifier__max_depth': 15, 'classifier__min_samples_split': 9, 'classifier__min_samples_leaf': 5, 'classifier__max_features': 'auto'}. Best is trial 12 with value: 0.7940418679549114.\u001b[0m\n",
            "\u001b[32m[I 2023-06-14 14:30:34,131]\u001b[0m Trial 33 finished with value: 0.7913043478260869 and parameters: {'classifier__n_estimators': 53, 'classifier__max_depth': 12, 'classifier__min_samples_split': 10, 'classifier__min_samples_leaf': 4, 'classifier__max_features': 'auto'}. Best is trial 12 with value: 0.7940418679549114.\u001b[0m\n",
            "\u001b[32m[I 2023-06-14 14:30:35,110]\u001b[0m Trial 34 finished with value: 0.7909822866344605 and parameters: {'classifier__n_estimators': 39, 'classifier__max_depth': 18, 'classifier__min_samples_split': 8, 'classifier__min_samples_leaf': 4, 'classifier__max_features': 'sqrt'}. Best is trial 12 with value: 0.7940418679549114.\u001b[0m\n",
            "\u001b[32m[I 2023-06-14 14:30:36,816]\u001b[0m Trial 35 finished with value: 0.792914653784219 and parameters: {'classifier__n_estimators': 77, 'classifier__max_depth': 10, 'classifier__min_samples_split': 9, 'classifier__min_samples_leaf': 5, 'classifier__max_features': 'auto'}. Best is trial 12 with value: 0.7940418679549114.\u001b[0m\n",
            "\u001b[32m[I 2023-06-14 14:30:37,841]\u001b[0m Trial 36 finished with value: 0.7919484702093398 and parameters: {'classifier__n_estimators': 19, 'classifier__max_depth': 22, 'classifier__min_samples_split': 10, 'classifier__min_samples_leaf': 4, 'classifier__max_features': 'sqrt'}. Best is trial 12 with value: 0.7940418679549114.\u001b[0m\n",
            "\u001b[32m[I 2023-06-14 14:30:40,215]\u001b[0m Trial 37 finished with value: 0.7919484702093398 and parameters: {'classifier__n_estimators': 66, 'classifier__max_depth': 16, 'classifier__min_samples_split': 7, 'classifier__min_samples_leaf': 5, 'classifier__max_features': 'auto'}. Best is trial 12 with value: 0.7940418679549114.\u001b[0m\n",
            "\u001b[32m[I 2023-06-14 14:30:41,046]\u001b[0m Trial 38 finished with value: 0.7911433172302738 and parameters: {'classifier__n_estimators': 34, 'classifier__max_depth': 12, 'classifier__min_samples_split': 7, 'classifier__min_samples_leaf': 5, 'classifier__max_features': 'sqrt'}. Best is trial 12 with value: 0.7940418679549114.\u001b[0m\n",
            "\u001b[32m[I 2023-06-14 14:30:41,476]\u001b[0m Trial 39 finished with value: 0.782769726247987 and parameters: {'classifier__n_estimators': 10, 'classifier__max_depth': 43, 'classifier__min_samples_split': 8, 'classifier__min_samples_leaf': 4, 'classifier__max_features': 'auto'}. Best is trial 12 with value: 0.7940418679549114.\u001b[0m\n",
            "\u001b[32m[I 2023-06-14 14:30:42,870]\u001b[0m Trial 40 finished with value: 0.7877616747181964 and parameters: {'classifier__n_estimators': 61, 'classifier__max_depth': 50, 'classifier__min_samples_split': 9, 'classifier__min_samples_leaf': 5, 'classifier__max_features': 'auto'}. Best is trial 12 with value: 0.7940418679549114.\u001b[0m\n",
            "\u001b[32m[I 2023-06-14 14:30:43,873]\u001b[0m Trial 41 finished with value: 0.7933977455716585 and parameters: {'classifier__n_estimators': 43, 'classifier__max_depth': 10, 'classifier__min_samples_split': 9, 'classifier__min_samples_leaf': 4, 'classifier__max_features': 'auto'}. Best is trial 12 with value: 0.7940418679549114.\u001b[0m\n",
            "\u001b[32m[I 2023-06-14 14:30:44,957]\u001b[0m Trial 42 finished with value: 0.7917874396135265 and parameters: {'classifier__n_estimators': 45, 'classifier__max_depth': 14, 'classifier__min_samples_split': 9, 'classifier__min_samples_leaf': 4, 'classifier__max_features': 'auto'}. Best is trial 12 with value: 0.7940418679549114.\u001b[0m\n",
            "\u001b[32m[I 2023-06-14 14:30:45,834]\u001b[0m Trial 43 finished with value: 0.7898550724637681 and parameters: {'classifier__n_estimators': 33, 'classifier__max_depth': 17, 'classifier__min_samples_split': 10, 'classifier__min_samples_leaf': 3, 'classifier__max_features': 'auto'}. Best is trial 12 with value: 0.7940418679549114.\u001b[0m\n",
            "\u001b[32m[I 2023-06-14 14:30:46,436]\u001b[0m Trial 44 finished with value: 0.7895330112721417 and parameters: {'classifier__n_estimators': 21, 'classifier__max_depth': 11, 'classifier__min_samples_split': 8, 'classifier__min_samples_leaf': 4, 'classifier__max_features': 'auto'}. Best is trial 12 with value: 0.7940418679549114.\u001b[0m\n",
            "\u001b[32m[I 2023-06-14 14:30:47,604]\u001b[0m Trial 45 finished with value: 0.7935587761674718 and parameters: {'classifier__n_estimators': 52, 'classifier__max_depth': 14, 'classifier__min_samples_split': 10, 'classifier__min_samples_leaf': 5, 'classifier__max_features': 'sqrt'}. Best is trial 12 with value: 0.7940418679549114.\u001b[0m\n",
            "\u001b[32m[I 2023-06-14 14:30:48,802]\u001b[0m Trial 46 finished with value: 0.7911433172302738 and parameters: {'classifier__n_estimators': 54, 'classifier__max_depth': 15, 'classifier__min_samples_split': 10, 'classifier__min_samples_leaf': 5, 'classifier__max_features': 'sqrt'}. Best is trial 12 with value: 0.7940418679549114.\u001b[0m\n",
            "\u001b[32m[I 2023-06-14 14:30:53,638]\u001b[0m Trial 47 finished with value: 0.7908212560386473 and parameters: {'classifier__n_estimators': 166, 'classifier__max_depth': 20, 'classifier__min_samples_split': 10, 'classifier__min_samples_leaf': 5, 'classifier__max_features': 'sqrt'}. Best is trial 12 with value: 0.7940418679549114.\u001b[0m\n",
            "\u001b[32m[I 2023-06-14 14:30:55,989]\u001b[0m Trial 48 finished with value: 0.7904991948470209 and parameters: {'classifier__n_estimators': 113, 'classifier__max_depth': 18, 'classifier__min_samples_split': 9, 'classifier__min_samples_leaf': 5, 'classifier__max_features': 'sqrt'}. Best is trial 12 with value: 0.7940418679549114.\u001b[0m\n",
            "\u001b[32m[I 2023-06-14 14:30:57,983]\u001b[0m Trial 49 finished with value: 0.793719806763285 and parameters: {'classifier__n_estimators': 98, 'classifier__max_depth': 13, 'classifier__min_samples_split': 10, 'classifier__min_samples_leaf': 5, 'classifier__max_features': 'sqrt'}. Best is trial 12 with value: 0.7940418679549114.\u001b[0m\n"
          ]
        }
      ]
    },
    {
      "cell_type": "markdown",
      "source": [
        "setting best params and training the pipeline"
      ],
      "metadata": {
        "id": "a7ueQf0SiedQ"
      }
    },
    {
      "cell_type": "code",
      "source": [
        "pipeline.set_params(**study.best_trial.params)\n",
        "\n",
        "pipeline.fit(X_train, y_train)"
      ],
      "metadata": {
        "colab": {
          "base_uri": "https://localhost:8080/",
          "height": 278
        },
        "id": "SvdCZOdcikQU",
        "outputId": "dfd26c41-7bc6-4f26-ea7c-55d1027e89bb"
      },
      "execution_count": 23,
      "outputs": [
        {
          "output_type": "stream",
          "name": "stderr",
          "text": [
            "/usr/local/lib/python3.10/dist-packages/sklearn/ensemble/_forest.py:424: FutureWarning: `max_features='auto'` has been deprecated in 1.1 and will be removed in 1.3. To keep the past behaviour, explicitly set `max_features='sqrt'` or remove this parameter as it is also the default value for RandomForestClassifiers and ExtraTreesClassifiers.\n",
            "  warn(\n"
          ]
        },
        {
          "output_type": "execute_result",
          "data": {
            "text/plain": [
              "Pipeline(steps=[('preprocessor',\n",
              "                 ColumnTransformer(remainder='passthrough',\n",
              "                                   transformers=[('num',\n",
              "                                                  Pipeline(steps=[('imputer',\n",
              "                                                                   SimpleImputer()),\n",
              "                                                                  ('scaler',\n",
              "                                                                   StandardScaler())]),\n",
              "                                                  ['Age', 'RoomService',\n",
              "                                                   'FoodCourt', 'ShoppingMall',\n",
              "                                                   'Spa', 'VRDeck']),\n",
              "                                                 ('cat',\n",
              "                                                  Pipeline(steps=[('imputer',\n",
              "                                                                   SimpleImputer(strategy='most_frequent')),\n",
              "                                                                  ('encoder',\n",
              "                                                                   OneHotEncoder())]),\n",
              "                                                  ['CryoSleep', 'VIP'])])),\n",
              "                ('classifier',\n",
              "                 RandomForestClassifier(max_depth=10, max_features='auto',\n",
              "                                        min_samples_leaf=5, min_samples_split=8,\n",
              "                                        n_estimators=63, random_state=42))])"
            ],
            "text/html": [
              "<style>#sk-container-id-2 {color: black;background-color: white;}#sk-container-id-2 pre{padding: 0;}#sk-container-id-2 div.sk-toggleable {background-color: white;}#sk-container-id-2 label.sk-toggleable__label {cursor: pointer;display: block;width: 100%;margin-bottom: 0;padding: 0.3em;box-sizing: border-box;text-align: center;}#sk-container-id-2 label.sk-toggleable__label-arrow:before {content: \"▸\";float: left;margin-right: 0.25em;color: #696969;}#sk-container-id-2 label.sk-toggleable__label-arrow:hover:before {color: black;}#sk-container-id-2 div.sk-estimator:hover label.sk-toggleable__label-arrow:before {color: black;}#sk-container-id-2 div.sk-toggleable__content {max-height: 0;max-width: 0;overflow: hidden;text-align: left;background-color: #f0f8ff;}#sk-container-id-2 div.sk-toggleable__content pre {margin: 0.2em;color: black;border-radius: 0.25em;background-color: #f0f8ff;}#sk-container-id-2 input.sk-toggleable__control:checked~div.sk-toggleable__content {max-height: 200px;max-width: 100%;overflow: auto;}#sk-container-id-2 input.sk-toggleable__control:checked~label.sk-toggleable__label-arrow:before {content: \"▾\";}#sk-container-id-2 div.sk-estimator input.sk-toggleable__control:checked~label.sk-toggleable__label {background-color: #d4ebff;}#sk-container-id-2 div.sk-label input.sk-toggleable__control:checked~label.sk-toggleable__label {background-color: #d4ebff;}#sk-container-id-2 input.sk-hidden--visually {border: 0;clip: rect(1px 1px 1px 1px);clip: rect(1px, 1px, 1px, 1px);height: 1px;margin: -1px;overflow: hidden;padding: 0;position: absolute;width: 1px;}#sk-container-id-2 div.sk-estimator {font-family: monospace;background-color: #f0f8ff;border: 1px dotted black;border-radius: 0.25em;box-sizing: border-box;margin-bottom: 0.5em;}#sk-container-id-2 div.sk-estimator:hover {background-color: #d4ebff;}#sk-container-id-2 div.sk-parallel-item::after {content: \"\";width: 100%;border-bottom: 1px solid gray;flex-grow: 1;}#sk-container-id-2 div.sk-label:hover label.sk-toggleable__label {background-color: #d4ebff;}#sk-container-id-2 div.sk-serial::before {content: \"\";position: absolute;border-left: 1px solid gray;box-sizing: border-box;top: 0;bottom: 0;left: 50%;z-index: 0;}#sk-container-id-2 div.sk-serial {display: flex;flex-direction: column;align-items: center;background-color: white;padding-right: 0.2em;padding-left: 0.2em;position: relative;}#sk-container-id-2 div.sk-item {position: relative;z-index: 1;}#sk-container-id-2 div.sk-parallel {display: flex;align-items: stretch;justify-content: center;background-color: white;position: relative;}#sk-container-id-2 div.sk-item::before, #sk-container-id-2 div.sk-parallel-item::before {content: \"\";position: absolute;border-left: 1px solid gray;box-sizing: border-box;top: 0;bottom: 0;left: 50%;z-index: -1;}#sk-container-id-2 div.sk-parallel-item {display: flex;flex-direction: column;z-index: 1;position: relative;background-color: white;}#sk-container-id-2 div.sk-parallel-item:first-child::after {align-self: flex-end;width: 50%;}#sk-container-id-2 div.sk-parallel-item:last-child::after {align-self: flex-start;width: 50%;}#sk-container-id-2 div.sk-parallel-item:only-child::after {width: 0;}#sk-container-id-2 div.sk-dashed-wrapped {border: 1px dashed gray;margin: 0 0.4em 0.5em 0.4em;box-sizing: border-box;padding-bottom: 0.4em;background-color: white;}#sk-container-id-2 div.sk-label label {font-family: monospace;font-weight: bold;display: inline-block;line-height: 1.2em;}#sk-container-id-2 div.sk-label-container {text-align: center;}#sk-container-id-2 div.sk-container {/* jupyter's `normalize.less` sets `[hidden] { display: none; }` but bootstrap.min.css set `[hidden] { display: none !important; }` so we also need the `!important` here to be able to override the default hidden behavior on the sphinx rendered scikit-learn.org. See: https://github.com/scikit-learn/scikit-learn/issues/21755 */display: inline-block !important;position: relative;}#sk-container-id-2 div.sk-text-repr-fallback {display: none;}</style><div id=\"sk-container-id-2\" class=\"sk-top-container\"><div class=\"sk-text-repr-fallback\"><pre>Pipeline(steps=[(&#x27;preprocessor&#x27;,\n",
              "                 ColumnTransformer(remainder=&#x27;passthrough&#x27;,\n",
              "                                   transformers=[(&#x27;num&#x27;,\n",
              "                                                  Pipeline(steps=[(&#x27;imputer&#x27;,\n",
              "                                                                   SimpleImputer()),\n",
              "                                                                  (&#x27;scaler&#x27;,\n",
              "                                                                   StandardScaler())]),\n",
              "                                                  [&#x27;Age&#x27;, &#x27;RoomService&#x27;,\n",
              "                                                   &#x27;FoodCourt&#x27;, &#x27;ShoppingMall&#x27;,\n",
              "                                                   &#x27;Spa&#x27;, &#x27;VRDeck&#x27;]),\n",
              "                                                 (&#x27;cat&#x27;,\n",
              "                                                  Pipeline(steps=[(&#x27;imputer&#x27;,\n",
              "                                                                   SimpleImputer(strategy=&#x27;most_frequent&#x27;)),\n",
              "                                                                  (&#x27;encoder&#x27;,\n",
              "                                                                   OneHotEncoder())]),\n",
              "                                                  [&#x27;CryoSleep&#x27;, &#x27;VIP&#x27;])])),\n",
              "                (&#x27;classifier&#x27;,\n",
              "                 RandomForestClassifier(max_depth=10, max_features=&#x27;auto&#x27;,\n",
              "                                        min_samples_leaf=5, min_samples_split=8,\n",
              "                                        n_estimators=63, random_state=42))])</pre><b>In a Jupyter environment, please rerun this cell to show the HTML representation or trust the notebook. <br />On GitHub, the HTML representation is unable to render, please try loading this page with nbviewer.org.</b></div><div class=\"sk-container\" hidden><div class=\"sk-item sk-dashed-wrapped\"><div class=\"sk-label-container\"><div class=\"sk-label sk-toggleable\"><input class=\"sk-toggleable__control sk-hidden--visually\" id=\"sk-estimator-id-12\" type=\"checkbox\" ><label for=\"sk-estimator-id-12\" class=\"sk-toggleable__label sk-toggleable__label-arrow\">Pipeline</label><div class=\"sk-toggleable__content\"><pre>Pipeline(steps=[(&#x27;preprocessor&#x27;,\n",
              "                 ColumnTransformer(remainder=&#x27;passthrough&#x27;,\n",
              "                                   transformers=[(&#x27;num&#x27;,\n",
              "                                                  Pipeline(steps=[(&#x27;imputer&#x27;,\n",
              "                                                                   SimpleImputer()),\n",
              "                                                                  (&#x27;scaler&#x27;,\n",
              "                                                                   StandardScaler())]),\n",
              "                                                  [&#x27;Age&#x27;, &#x27;RoomService&#x27;,\n",
              "                                                   &#x27;FoodCourt&#x27;, &#x27;ShoppingMall&#x27;,\n",
              "                                                   &#x27;Spa&#x27;, &#x27;VRDeck&#x27;]),\n",
              "                                                 (&#x27;cat&#x27;,\n",
              "                                                  Pipeline(steps=[(&#x27;imputer&#x27;,\n",
              "                                                                   SimpleImputer(strategy=&#x27;most_frequent&#x27;)),\n",
              "                                                                  (&#x27;encoder&#x27;,\n",
              "                                                                   OneHotEncoder())]),\n",
              "                                                  [&#x27;CryoSleep&#x27;, &#x27;VIP&#x27;])])),\n",
              "                (&#x27;classifier&#x27;,\n",
              "                 RandomForestClassifier(max_depth=10, max_features=&#x27;auto&#x27;,\n",
              "                                        min_samples_leaf=5, min_samples_split=8,\n",
              "                                        n_estimators=63, random_state=42))])</pre></div></div></div><div class=\"sk-serial\"><div class=\"sk-item sk-dashed-wrapped\"><div class=\"sk-label-container\"><div class=\"sk-label sk-toggleable\"><input class=\"sk-toggleable__control sk-hidden--visually\" id=\"sk-estimator-id-13\" type=\"checkbox\" ><label for=\"sk-estimator-id-13\" class=\"sk-toggleable__label sk-toggleable__label-arrow\">preprocessor: ColumnTransformer</label><div class=\"sk-toggleable__content\"><pre>ColumnTransformer(remainder=&#x27;passthrough&#x27;,\n",
              "                  transformers=[(&#x27;num&#x27;,\n",
              "                                 Pipeline(steps=[(&#x27;imputer&#x27;, SimpleImputer()),\n",
              "                                                 (&#x27;scaler&#x27;, StandardScaler())]),\n",
              "                                 [&#x27;Age&#x27;, &#x27;RoomService&#x27;, &#x27;FoodCourt&#x27;,\n",
              "                                  &#x27;ShoppingMall&#x27;, &#x27;Spa&#x27;, &#x27;VRDeck&#x27;]),\n",
              "                                (&#x27;cat&#x27;,\n",
              "                                 Pipeline(steps=[(&#x27;imputer&#x27;,\n",
              "                                                  SimpleImputer(strategy=&#x27;most_frequent&#x27;)),\n",
              "                                                 (&#x27;encoder&#x27;, OneHotEncoder())]),\n",
              "                                 [&#x27;CryoSleep&#x27;, &#x27;VIP&#x27;])])</pre></div></div></div><div class=\"sk-parallel\"><div class=\"sk-parallel-item\"><div class=\"sk-item\"><div class=\"sk-label-container\"><div class=\"sk-label sk-toggleable\"><input class=\"sk-toggleable__control sk-hidden--visually\" id=\"sk-estimator-id-14\" type=\"checkbox\" ><label for=\"sk-estimator-id-14\" class=\"sk-toggleable__label sk-toggleable__label-arrow\">num</label><div class=\"sk-toggleable__content\"><pre>[&#x27;Age&#x27;, &#x27;RoomService&#x27;, &#x27;FoodCourt&#x27;, &#x27;ShoppingMall&#x27;, &#x27;Spa&#x27;, &#x27;VRDeck&#x27;]</pre></div></div></div><div class=\"sk-serial\"><div class=\"sk-item\"><div class=\"sk-serial\"><div class=\"sk-item\"><div class=\"sk-estimator sk-toggleable\"><input class=\"sk-toggleable__control sk-hidden--visually\" id=\"sk-estimator-id-15\" type=\"checkbox\" ><label for=\"sk-estimator-id-15\" class=\"sk-toggleable__label sk-toggleable__label-arrow\">SimpleImputer</label><div class=\"sk-toggleable__content\"><pre>SimpleImputer()</pre></div></div></div><div class=\"sk-item\"><div class=\"sk-estimator sk-toggleable\"><input class=\"sk-toggleable__control sk-hidden--visually\" id=\"sk-estimator-id-16\" type=\"checkbox\" ><label for=\"sk-estimator-id-16\" class=\"sk-toggleable__label sk-toggleable__label-arrow\">StandardScaler</label><div class=\"sk-toggleable__content\"><pre>StandardScaler()</pre></div></div></div></div></div></div></div></div><div class=\"sk-parallel-item\"><div class=\"sk-item\"><div class=\"sk-label-container\"><div class=\"sk-label sk-toggleable\"><input class=\"sk-toggleable__control sk-hidden--visually\" id=\"sk-estimator-id-17\" type=\"checkbox\" ><label for=\"sk-estimator-id-17\" class=\"sk-toggleable__label sk-toggleable__label-arrow\">cat</label><div class=\"sk-toggleable__content\"><pre>[&#x27;CryoSleep&#x27;, &#x27;VIP&#x27;]</pre></div></div></div><div class=\"sk-serial\"><div class=\"sk-item\"><div class=\"sk-serial\"><div class=\"sk-item\"><div class=\"sk-estimator sk-toggleable\"><input class=\"sk-toggleable__control sk-hidden--visually\" id=\"sk-estimator-id-18\" type=\"checkbox\" ><label for=\"sk-estimator-id-18\" class=\"sk-toggleable__label sk-toggleable__label-arrow\">SimpleImputer</label><div class=\"sk-toggleable__content\"><pre>SimpleImputer(strategy=&#x27;most_frequent&#x27;)</pre></div></div></div><div class=\"sk-item\"><div class=\"sk-estimator sk-toggleable\"><input class=\"sk-toggleable__control sk-hidden--visually\" id=\"sk-estimator-id-19\" type=\"checkbox\" ><label for=\"sk-estimator-id-19\" class=\"sk-toggleable__label sk-toggleable__label-arrow\">OneHotEncoder</label><div class=\"sk-toggleable__content\"><pre>OneHotEncoder()</pre></div></div></div></div></div></div></div></div><div class=\"sk-parallel-item\"><div class=\"sk-item\"><div class=\"sk-label-container\"><div class=\"sk-label sk-toggleable\"><input class=\"sk-toggleable__control sk-hidden--visually\" id=\"sk-estimator-id-20\" type=\"checkbox\" ><label for=\"sk-estimator-id-20\" class=\"sk-toggleable__label sk-toggleable__label-arrow\">remainder</label><div class=\"sk-toggleable__content\"><pre>[]</pre></div></div></div><div class=\"sk-serial\"><div class=\"sk-item\"><div class=\"sk-estimator sk-toggleable\"><input class=\"sk-toggleable__control sk-hidden--visually\" id=\"sk-estimator-id-21\" type=\"checkbox\" ><label for=\"sk-estimator-id-21\" class=\"sk-toggleable__label sk-toggleable__label-arrow\">passthrough</label><div class=\"sk-toggleable__content\"><pre>passthrough</pre></div></div></div></div></div></div></div></div><div class=\"sk-item\"><div class=\"sk-estimator sk-toggleable\"><input class=\"sk-toggleable__control sk-hidden--visually\" id=\"sk-estimator-id-22\" type=\"checkbox\" ><label for=\"sk-estimator-id-22\" class=\"sk-toggleable__label sk-toggleable__label-arrow\">RandomForestClassifier</label><div class=\"sk-toggleable__content\"><pre>RandomForestClassifier(max_depth=10, max_features=&#x27;auto&#x27;, min_samples_leaf=5,\n",
              "                       min_samples_split=8, n_estimators=63, random_state=42)</pre></div></div></div></div></div></div></div>"
            ]
          },
          "metadata": {},
          "execution_count": 23
        }
      ]
    },
    {
      "cell_type": "markdown",
      "source": [
        "Evaluating for the best model"
      ],
      "metadata": {
        "id": "AFg11BpGi1S0"
      }
    },
    {
      "cell_type": "code",
      "source": [
        "y_pred = pipeline.predict(X_test)\n",
        "accuracy = accuracy_score(y_test, y_pred)\n",
        "precision = precision_score(y_test, y_pred)\n",
        "recall = recall_score(y_test,y_pred)\n",
        "f1=f1_score(y_test, y_pred)\n",
        "\n",
        "run[\"accuracy_tuned\"] = accuracy\n",
        "run[\"precision_tuned\"] = precision\n",
        "run[\"recall_tuned\"]  = recall\n",
        "run[\"f1_tuned\"] = f1"
      ],
      "metadata": {
        "id": "D6oRGK3Hi3r-"
      },
      "execution_count": 24,
      "outputs": []
    },
    {
      "cell_type": "markdown",
      "source": [
        "Logging hyperparameters , best trial parameters and best Neptune score"
      ],
      "metadata": {
        "id": "_osdk1asjgO6"
      }
    },
    {
      "cell_type": "code",
      "source": [
        "run['parameters'] = study.best_trial.params\n",
        "run['best_trial'] = study.best_trial.number\n",
        "run['best_score'] = study.best_value"
      ],
      "metadata": {
        "id": "NZwSYJJljn8K"
      },
      "execution_count": 25,
      "outputs": []
    },
    {
      "cell_type": "markdown",
      "source": [
        "Log the classification report and confusion matrix"
      ],
      "metadata": {
        "id": "xR6Bg6Wcj51K"
      }
    },
    {
      "cell_type": "code",
      "source": [
        "from sklearn.metrics import classification_report, confusion_matrix\n",
        "\n",
        "y_pred = pipeline.predict(X_test)\n",
        "\n",
        "#Log classification report\n",
        "report = classification_report(y_test, y_pred,output_dict =True)\n",
        "for label,metrics in report.items():\n",
        "  if isinstance(metrics,dict):\n",
        "    for metrics,value in metrics.items():\n",
        "      run[f\"classification_report/{label}\"]=metrics\n",
        "\n",
        "#Log confusion matrix\n",
        "conf_mat = confusion_matrix(y_test, y_pred)\n",
        "conf_mat_plot = px.imshow(conf_mat, labels=dict(x=\"Predict\", y=\"Target\"),x=[x+1 for x in range(len(conf_mat[0]))],y=[x+1 for x in range(len(conf_mat[0]))])\n",
        "\n",
        "run['confusion_matrix'].upload(neptune.types.File.as_html(conf_mat_plot))\n",
        "\n",
        "\n"
      ],
      "metadata": {
        "id": "MtEeu-KGj_pt"
      },
      "execution_count": 30,
      "outputs": []
    },
    {
      "cell_type": "markdown",
      "source": [
        "Log the pipeline as a pickle file."
      ],
      "metadata": {
        "id": "lVEEG5hqVV0m"
      }
    },
    {
      "cell_type": "code",
      "source": [
        "import joblib\n",
        "\n",
        "joblib.dump(pipeline, 'optimized_pipeline.pkl' )\n",
        "run['optimized_pipeline'].upload(neptune.types.File.as_pickle('optimized_pipeline.pkl'))\n"
      ],
      "metadata": {
        "id": "Fo2IUe4wVdTs"
      },
      "execution_count": 31,
      "outputs": []
    },
    {
      "cell_type": "markdown",
      "source": [
        "stopping the neptune run"
      ],
      "metadata": {
        "id": "LJnkDYMoWnAp"
      }
    },
    {
      "cell_type": "code",
      "source": [
        "run.stop()"
      ],
      "metadata": {
        "colab": {
          "base_uri": "https://localhost:8080/"
        },
        "id": "-PfNi7F7WqCK",
        "outputId": "7adea799-d9c2-4ebe-b881-ca26d8ec6412"
      },
      "execution_count": 32,
      "outputs": [
        {
          "output_type": "stream",
          "name": "stdout",
          "text": [
            "Shutting down background jobs, please wait a moment...\n",
            "Done!\n",
            "Waiting for the remaining 1 operations to synchronize with Neptune. Do not kill this process.\n",
            "All 1 operations synced, thanks for waiting!\n",
            "Explore the metadata in the Neptune app:\n",
            "https://app.neptune.ai/d-mech.guy001/example-project-tensorflow-keras/e/TFKERAS-17\n"
          ]
        }
      ]
    }
  ]
}